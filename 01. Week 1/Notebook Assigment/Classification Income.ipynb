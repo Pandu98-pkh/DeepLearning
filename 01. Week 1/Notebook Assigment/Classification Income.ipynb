{
  "cells": [
    {
      "cell_type": "markdown",
      "metadata": {
        "colab_type": "text",
        "id": "view-in-github"
      },
      "source": [
        "<a href=\"https://colab.research.google.com/github/Pandu98-pkh/DeepLearning/blob/main/01.%20Week%201/Notebook%20Assigment/Classification%20Income.ipynb\" target=\"_parent\"><img src=\"https://colab.research.google.com/assets/colab-badge.svg\" alt=\"Open In Colab\"/></a>"
      ]
    },
    {
      "cell_type": "markdown",
      "metadata": {
        "id": "WXIuabz3ypex"
      },
      "source": []
    },
    {
      "cell_type": "code",
      "execution_count": 16,
      "metadata": {
        "id": "PmLiZCLpzk--"
      },
      "outputs": [],
      "source": [
        "import numpy as np\n",
        "import pandas as pd\n",
        "import matplotlib.pyplot as plt\n",
        "import seaborn as sns\n",
        "from sklearn.model_selection import train_test_split # untuk membagi data menjadi data latih dan data uji\n",
        "from sklearn.preprocessing import LabelEncoder, MinMaxScaler # untuk mengubah label kelas menjadi angka\n",
        "from sklearn.feature_selection import SelectKBest, f_classif\n",
        "from category_encoders import TargetEncoder\n",
        "from sklearn.metrics import mean_squared_error, r2_score, accuracy_score, precision_score, recall_score, f1_score, roc_auc_score, roc_curve, auc, confusion_matrix\n",
        "import math"
      ]
    },
    {
      "cell_type": "code",
      "execution_count": 17,
      "metadata": {
        "id": "YSu0PYv3zvtq"
      },
      "outputs": [],
      "source": [
        "url = \"https://raw.githubusercontent.com/Pandu98-pkh/DeepLearning/refs/heads/main/01.%20Week%201/Dataset/income.csv\"\n",
        "\n",
        "try:\n",
        "  df = pd.read_csv(url).dropna()\n",
        "except Exception as e:\n",
        "  print(f\"Error loading dataset: {e}\")"
      ]
    },
    {
      "cell_type": "code",
      "execution_count": 18,
      "metadata": {
        "colab": {
          "base_uri": "https://localhost:8080/",
          "height": 712
        },
        "id": "oMRTodkA0pbo",
        "outputId": "08073f3b-6484-44c9-bd6d-b4dab1e74896"
      },
      "outputs": [
        {
          "data": {
            "text/html": [
              "<div>\n",
              "<style scoped>\n",
              "    .dataframe tbody tr th:only-of-type {\n",
              "        vertical-align: middle;\n",
              "    }\n",
              "\n",
              "    .dataframe tbody tr th {\n",
              "        vertical-align: top;\n",
              "    }\n",
              "\n",
              "    .dataframe thead th {\n",
              "        text-align: right;\n",
              "    }\n",
              "</style>\n",
              "<table border=\"1\" class=\"dataframe\">\n",
              "  <thead>\n",
              "    <tr style=\"text-align: right;\">\n",
              "      <th></th>\n",
              "      <th>age</th>\n",
              "      <th>workclass</th>\n",
              "      <th>fnlwgt</th>\n",
              "      <th>education</th>\n",
              "      <th>education-num</th>\n",
              "      <th>marital-status</th>\n",
              "      <th>occupation</th>\n",
              "      <th>relationship</th>\n",
              "      <th>race</th>\n",
              "      <th>sex</th>\n",
              "      <th>capital-gain</th>\n",
              "      <th>capital-loss</th>\n",
              "      <th>hours-per-week</th>\n",
              "      <th>native-country</th>\n",
              "      <th>income</th>\n",
              "    </tr>\n",
              "  </thead>\n",
              "  <tbody>\n",
              "    <tr>\n",
              "      <th>29631</th>\n",
              "      <td>31</td>\n",
              "      <td>Private</td>\n",
              "      <td>173858</td>\n",
              "      <td>Prof-school</td>\n",
              "      <td>15</td>\n",
              "      <td>Married-civ-spouse</td>\n",
              "      <td>Tech-support</td>\n",
              "      <td>Husband</td>\n",
              "      <td>Asian-Pac-Islander</td>\n",
              "      <td>Male</td>\n",
              "      <td>0</td>\n",
              "      <td>0</td>\n",
              "      <td>40</td>\n",
              "      <td>India</td>\n",
              "      <td>&lt;=50K</td>\n",
              "    </tr>\n",
              "    <tr>\n",
              "      <th>36064</th>\n",
              "      <td>39</td>\n",
              "      <td>Private</td>\n",
              "      <td>165743</td>\n",
              "      <td>9th</td>\n",
              "      <td>5</td>\n",
              "      <td>Married-civ-spouse</td>\n",
              "      <td>Handlers-cleaners</td>\n",
              "      <td>Husband</td>\n",
              "      <td>White</td>\n",
              "      <td>Male</td>\n",
              "      <td>0</td>\n",
              "      <td>0</td>\n",
              "      <td>40</td>\n",
              "      <td>United-States</td>\n",
              "      <td>&lt;=50K.</td>\n",
              "    </tr>\n",
              "    <tr>\n",
              "      <th>27115</th>\n",
              "      <td>28</td>\n",
              "      <td>Private</td>\n",
              "      <td>411587</td>\n",
              "      <td>Some-college</td>\n",
              "      <td>10</td>\n",
              "      <td>Never-married</td>\n",
              "      <td>Protective-serv</td>\n",
              "      <td>Own-child</td>\n",
              "      <td>White</td>\n",
              "      <td>Male</td>\n",
              "      <td>0</td>\n",
              "      <td>0</td>\n",
              "      <td>40</td>\n",
              "      <td>Honduras</td>\n",
              "      <td>&lt;=50K</td>\n",
              "    </tr>\n",
              "    <tr>\n",
              "      <th>13754</th>\n",
              "      <td>42</td>\n",
              "      <td>Private</td>\n",
              "      <td>107276</td>\n",
              "      <td>Some-college</td>\n",
              "      <td>10</td>\n",
              "      <td>Never-married</td>\n",
              "      <td>Exec-managerial</td>\n",
              "      <td>Not-in-family</td>\n",
              "      <td>White</td>\n",
              "      <td>Female</td>\n",
              "      <td>0</td>\n",
              "      <td>2444</td>\n",
              "      <td>40</td>\n",
              "      <td>United-States</td>\n",
              "      <td>&gt;50K</td>\n",
              "    </tr>\n",
              "    <tr>\n",
              "      <th>15736</th>\n",
              "      <td>33</td>\n",
              "      <td>Federal-gov</td>\n",
              "      <td>615893</td>\n",
              "      <td>Masters</td>\n",
              "      <td>14</td>\n",
              "      <td>Married-civ-spouse</td>\n",
              "      <td>Transport-moving</td>\n",
              "      <td>Husband</td>\n",
              "      <td>Black</td>\n",
              "      <td>Male</td>\n",
              "      <td>0</td>\n",
              "      <td>0</td>\n",
              "      <td>40</td>\n",
              "      <td>Nicaragua</td>\n",
              "      <td>&lt;=50K</td>\n",
              "    </tr>\n",
              "    <tr>\n",
              "      <th>15193</th>\n",
              "      <td>22</td>\n",
              "      <td>Private</td>\n",
              "      <td>200109</td>\n",
              "      <td>HS-grad</td>\n",
              "      <td>9</td>\n",
              "      <td>Married-civ-spouse</td>\n",
              "      <td>Priv-house-serv</td>\n",
              "      <td>Wife</td>\n",
              "      <td>White</td>\n",
              "      <td>Female</td>\n",
              "      <td>4508</td>\n",
              "      <td>0</td>\n",
              "      <td>40</td>\n",
              "      <td>United-States</td>\n",
              "      <td>&lt;=50K</td>\n",
              "    </tr>\n",
              "    <tr>\n",
              "      <th>648</th>\n",
              "      <td>58</td>\n",
              "      <td>?</td>\n",
              "      <td>158611</td>\n",
              "      <td>HS-grad</td>\n",
              "      <td>9</td>\n",
              "      <td>Married-civ-spouse</td>\n",
              "      <td>?</td>\n",
              "      <td>Husband</td>\n",
              "      <td>White</td>\n",
              "      <td>Male</td>\n",
              "      <td>0</td>\n",
              "      <td>0</td>\n",
              "      <td>50</td>\n",
              "      <td>United-States</td>\n",
              "      <td>&lt;=50K</td>\n",
              "    </tr>\n",
              "    <tr>\n",
              "      <th>39241</th>\n",
              "      <td>34</td>\n",
              "      <td>Private</td>\n",
              "      <td>161153</td>\n",
              "      <td>10th</td>\n",
              "      <td>6</td>\n",
              "      <td>Married-civ-spouse</td>\n",
              "      <td>Farming-fishing</td>\n",
              "      <td>Husband</td>\n",
              "      <td>White</td>\n",
              "      <td>Male</td>\n",
              "      <td>0</td>\n",
              "      <td>0</td>\n",
              "      <td>35</td>\n",
              "      <td>United-States</td>\n",
              "      <td>&lt;=50K.</td>\n",
              "    </tr>\n",
              "    <tr>\n",
              "      <th>36244</th>\n",
              "      <td>24</td>\n",
              "      <td>Private</td>\n",
              "      <td>91189</td>\n",
              "      <td>HS-grad</td>\n",
              "      <td>9</td>\n",
              "      <td>Married-civ-spouse</td>\n",
              "      <td>Craft-repair</td>\n",
              "      <td>Husband</td>\n",
              "      <td>White</td>\n",
              "      <td>Male</td>\n",
              "      <td>0</td>\n",
              "      <td>0</td>\n",
              "      <td>40</td>\n",
              "      <td>United-States</td>\n",
              "      <td>&lt;=50K.</td>\n",
              "    </tr>\n",
              "    <tr>\n",
              "      <th>38597</th>\n",
              "      <td>42</td>\n",
              "      <td>Private</td>\n",
              "      <td>199900</td>\n",
              "      <td>Some-college</td>\n",
              "      <td>10</td>\n",
              "      <td>Married-civ-spouse</td>\n",
              "      <td>Craft-repair</td>\n",
              "      <td>Husband</td>\n",
              "      <td>White</td>\n",
              "      <td>Male</td>\n",
              "      <td>0</td>\n",
              "      <td>0</td>\n",
              "      <td>52</td>\n",
              "      <td>United-States</td>\n",
              "      <td>&lt;=50K.</td>\n",
              "    </tr>\n",
              "  </tbody>\n",
              "</table>\n",
              "</div>"
            ],
            "text/plain": [
              "       age    workclass  fnlwgt     education  education-num  \\\n",
              "29631   31      Private  173858   Prof-school             15   \n",
              "36064   39      Private  165743           9th              5   \n",
              "27115   28      Private  411587  Some-college             10   \n",
              "13754   42      Private  107276  Some-college             10   \n",
              "15736   33  Federal-gov  615893       Masters             14   \n",
              "15193   22      Private  200109       HS-grad              9   \n",
              "648     58            ?  158611       HS-grad              9   \n",
              "39241   34      Private  161153          10th              6   \n",
              "36244   24      Private   91189       HS-grad              9   \n",
              "38597   42      Private  199900  Some-college             10   \n",
              "\n",
              "           marital-status         occupation   relationship  \\\n",
              "29631  Married-civ-spouse       Tech-support        Husband   \n",
              "36064  Married-civ-spouse  Handlers-cleaners        Husband   \n",
              "27115       Never-married    Protective-serv      Own-child   \n",
              "13754       Never-married    Exec-managerial  Not-in-family   \n",
              "15736  Married-civ-spouse   Transport-moving        Husband   \n",
              "15193  Married-civ-spouse    Priv-house-serv           Wife   \n",
              "648    Married-civ-spouse                  ?        Husband   \n",
              "39241  Married-civ-spouse    Farming-fishing        Husband   \n",
              "36244  Married-civ-spouse       Craft-repair        Husband   \n",
              "38597  Married-civ-spouse       Craft-repair        Husband   \n",
              "\n",
              "                     race     sex  capital-gain  capital-loss  hours-per-week  \\\n",
              "29631  Asian-Pac-Islander    Male             0             0              40   \n",
              "36064               White    Male             0             0              40   \n",
              "27115               White    Male             0             0              40   \n",
              "13754               White  Female             0          2444              40   \n",
              "15736               Black    Male             0             0              40   \n",
              "15193               White  Female          4508             0              40   \n",
              "648                 White    Male             0             0              50   \n",
              "39241               White    Male             0             0              35   \n",
              "36244               White    Male             0             0              40   \n",
              "38597               White    Male             0             0              52   \n",
              "\n",
              "      native-country  income  \n",
              "29631          India   <=50K  \n",
              "36064  United-States  <=50K.  \n",
              "27115       Honduras   <=50K  \n",
              "13754  United-States    >50K  \n",
              "15736      Nicaragua   <=50K  \n",
              "15193  United-States   <=50K  \n",
              "648    United-States   <=50K  \n",
              "39241  United-States  <=50K.  \n",
              "36244  United-States  <=50K.  \n",
              "38597  United-States  <=50K.  "
            ]
          },
          "execution_count": 18,
          "metadata": {},
          "output_type": "execute_result"
        }
      ],
      "source": [
        "df.sample(10) # menampilkan 10 sample data secara acak"
      ]
    },
    {
      "cell_type": "code",
      "execution_count": 19,
      "metadata": {
        "colab": {
          "base_uri": "https://localhost:8080/",
          "height": 337
        },
        "id": "t6vpPBUQ0-0z",
        "outputId": "0537413f-3cd4-4b8c-f08f-4a76fca8967c"
      },
      "outputs": [
        {
          "data": {
            "text/html": [
              "<div>\n",
              "<style scoped>\n",
              "    .dataframe tbody tr th:only-of-type {\n",
              "        vertical-align: middle;\n",
              "    }\n",
              "\n",
              "    .dataframe tbody tr th {\n",
              "        vertical-align: top;\n",
              "    }\n",
              "\n",
              "    .dataframe thead th {\n",
              "        text-align: right;\n",
              "    }\n",
              "</style>\n",
              "<table border=\"1\" class=\"dataframe\">\n",
              "  <thead>\n",
              "    <tr style=\"text-align: right;\">\n",
              "      <th></th>\n",
              "      <th>age</th>\n",
              "      <th>fnlwgt</th>\n",
              "      <th>education-num</th>\n",
              "      <th>capital-gain</th>\n",
              "      <th>capital-loss</th>\n",
              "      <th>hours-per-week</th>\n",
              "    </tr>\n",
              "  </thead>\n",
              "  <tbody>\n",
              "    <tr>\n",
              "      <th>count</th>\n",
              "      <td>47621.000000</td>\n",
              "      <td>4.762100e+04</td>\n",
              "      <td>47621.000000</td>\n",
              "      <td>47621.000000</td>\n",
              "      <td>47621.000000</td>\n",
              "      <td>47621.000000</td>\n",
              "    </tr>\n",
              "    <tr>\n",
              "      <th>mean</th>\n",
              "      <td>38.640684</td>\n",
              "      <td>1.897271e+05</td>\n",
              "      <td>10.090821</td>\n",
              "      <td>1091.137649</td>\n",
              "      <td>87.853489</td>\n",
              "      <td>40.600050</td>\n",
              "    </tr>\n",
              "    <tr>\n",
              "      <th>std</th>\n",
              "      <td>13.558961</td>\n",
              "      <td>1.055695e+05</td>\n",
              "      <td>2.568320</td>\n",
              "      <td>7487.228336</td>\n",
              "      <td>404.010612</td>\n",
              "      <td>12.260345</td>\n",
              "    </tr>\n",
              "    <tr>\n",
              "      <th>min</th>\n",
              "      <td>17.000000</td>\n",
              "      <td>1.228500e+04</td>\n",
              "      <td>1.000000</td>\n",
              "      <td>0.000000</td>\n",
              "      <td>0.000000</td>\n",
              "      <td>1.000000</td>\n",
              "    </tr>\n",
              "    <tr>\n",
              "      <th>25%</th>\n",
              "      <td>28.000000</td>\n",
              "      <td>1.175840e+05</td>\n",
              "      <td>9.000000</td>\n",
              "      <td>0.000000</td>\n",
              "      <td>0.000000</td>\n",
              "      <td>40.000000</td>\n",
              "    </tr>\n",
              "    <tr>\n",
              "      <th>50%</th>\n",
              "      <td>37.000000</td>\n",
              "      <td>1.782820e+05</td>\n",
              "      <td>10.000000</td>\n",
              "      <td>0.000000</td>\n",
              "      <td>0.000000</td>\n",
              "      <td>40.000000</td>\n",
              "    </tr>\n",
              "    <tr>\n",
              "      <th>75%</th>\n",
              "      <td>48.000000</td>\n",
              "      <td>2.377200e+05</td>\n",
              "      <td>12.000000</td>\n",
              "      <td>0.000000</td>\n",
              "      <td>0.000000</td>\n",
              "      <td>45.000000</td>\n",
              "    </tr>\n",
              "    <tr>\n",
              "      <th>max</th>\n",
              "      <td>90.000000</td>\n",
              "      <td>1.490400e+06</td>\n",
              "      <td>16.000000</td>\n",
              "      <td>99999.000000</td>\n",
              "      <td>4356.000000</td>\n",
              "      <td>99.000000</td>\n",
              "    </tr>\n",
              "  </tbody>\n",
              "</table>\n",
              "</div>"
            ],
            "text/plain": [
              "                age        fnlwgt  education-num  capital-gain  capital-loss  \\\n",
              "count  47621.000000  4.762100e+04   47621.000000  47621.000000  47621.000000   \n",
              "mean      38.640684  1.897271e+05      10.090821   1091.137649     87.853489   \n",
              "std       13.558961  1.055695e+05       2.568320   7487.228336    404.010612   \n",
              "min       17.000000  1.228500e+04       1.000000      0.000000      0.000000   \n",
              "25%       28.000000  1.175840e+05       9.000000      0.000000      0.000000   \n",
              "50%       37.000000  1.782820e+05      10.000000      0.000000      0.000000   \n",
              "75%       48.000000  2.377200e+05      12.000000      0.000000      0.000000   \n",
              "max       90.000000  1.490400e+06      16.000000  99999.000000   4356.000000   \n",
              "\n",
              "       hours-per-week  \n",
              "count    47621.000000  \n",
              "mean        40.600050  \n",
              "std         12.260345  \n",
              "min          1.000000  \n",
              "25%         40.000000  \n",
              "50%         40.000000  \n",
              "75%         45.000000  \n",
              "max         99.000000  "
            ]
          },
          "execution_count": 19,
          "metadata": {},
          "output_type": "execute_result"
        }
      ],
      "source": [
        "df.describe() # menampilkan statistik data"
      ]
    },
    {
      "cell_type": "code",
      "execution_count": 20,
      "metadata": {
        "colab": {
          "base_uri": "https://localhost:8080/"
        },
        "id": "__Yk-cMZ2kOa",
        "outputId": "6f5b3dce-8585-4734-8312-d4872fc59627"
      },
      "outputs": [
        {
          "name": "stdout",
          "output_type": "stream",
          "text": [
            "<class 'pandas.core.frame.DataFrame'>\n",
            "Index: 47621 entries, 0 to 48841\n",
            "Data columns (total 15 columns):\n",
            " #   Column          Non-Null Count  Dtype \n",
            "---  ------          --------------  ----- \n",
            " 0   age             47621 non-null  int64 \n",
            " 1   workclass       47621 non-null  object\n",
            " 2   fnlwgt          47621 non-null  int64 \n",
            " 3   education       47621 non-null  object\n",
            " 4   education-num   47621 non-null  int64 \n",
            " 5   marital-status  47621 non-null  object\n",
            " 6   occupation      47621 non-null  object\n",
            " 7   relationship    47621 non-null  object\n",
            " 8   race            47621 non-null  object\n",
            " 9   sex             47621 non-null  object\n",
            " 10  capital-gain    47621 non-null  int64 \n",
            " 11  capital-loss    47621 non-null  int64 \n",
            " 12  hours-per-week  47621 non-null  int64 \n",
            " 13  native-country  47621 non-null  object\n",
            " 14  income          47621 non-null  object\n",
            "dtypes: int64(6), object(9)\n",
            "memory usage: 5.8+ MB\n"
          ]
        }
      ],
      "source": [
        "df.info()"
      ]
    },
    {
      "cell_type": "code",
      "execution_count": 21,
      "metadata": {
        "colab": {
          "base_uri": "https://localhost:8080/"
        },
        "id": "CDWJ_4QL27lS",
        "outputId": "271d1b72-63cd-4ccd-fe7a-e83e749782c8"
      },
      "outputs": [
        {
          "name": "stdout",
          "output_type": "stream",
          "text": [
            "[[0.30136986 0.04413121 0.8        ... 0.25707351 0.30701068 0.24731133]\n",
            " [0.45205479 0.04805174 0.8        ... 0.25707351 0.30701068 0.24731133]\n",
            " [0.28767123 0.13758131 0.53333333 ... 0.25707351 0.30701068 0.24731133]\n",
            " ...\n",
            " [0.28767123 0.24537874 0.8        ... 0.25707351 0.30701068 0.24731133]\n",
            " [0.36986301 0.04844413 0.8        ... 0.27436075 0.30701068 0.24731133]\n",
            " [0.24657534 0.11491866 0.8        ... 0.25707351 0.30701068 0.24731133]] [0 0 0 ... 0 0 1]\n"
          ]
        }
      ],
      "source": [
        "# Menghapus spasi tambahan dari kolom kategori jika ada\n",
        "db = df.apply(lambda x: x.str.strip(' .') if x.dtype == \"object\" else x)\n",
        "# Mengubah target menjadi biner (0 = <=50K, 1 = >50K)\n",
        "db['income'] = LabelEncoder().fit_transform(db['income'])\n",
        "# Memisahkan fitur numerik dan kategorikal\n",
        "num_cols = db.drop(columns=['income']).select_dtypes(include=['int64', 'float64']).columns.tolist()\n",
        "cat_cols = db.select_dtypes(include=['object']).columns.tolist()\n",
        "\n",
        "# Mengonversi variabel kategori menggunakan One-Hot Encoding\n",
        "encoder = TargetEncoder()\n",
        "db_encoded = encoder.fit_transform(db[cat_cols], db['income'])\n",
        "db = db.drop(columns=cat_cols).join(db_encoded)\n",
        "\n",
        "# Normalisasi fitur numerik\n",
        "scaler = MinMaxScaler()\n",
        "db[num_cols] = scaler.fit_transform(db[num_cols])\n",
        "\n",
        "# Memisahkan fitur (X) dan target (y)\n",
        "X = db.drop(columns=['income']).values\n",
        "y = db['income'].values\n",
        "\n",
        "print(X, y) # menampilkan data fitur dan label\n",
        "\n",
        "# Memisahkan data menjadi data latih dan data uji\n",
        "X_train, X_test, y_train, y_test = train_test_split(X, y, test_size=0.2, random_state=42)\n"
      ]
    },
    {
      "cell_type": "code",
      "execution_count": 22,
      "metadata": {
        "id": "D4f3puOpAlmY"
      },
      "outputs": [],
      "source": [
        "# prompt: Mempersiapkan Rumus Evaluasi (Akurasi, Presisi, Recall, F1Squared, AUC, ROC)\n",
        "# # Fungsinya untuk menghitung metrik evaluasi\n",
        "# # Metrik evaluasi yang digunakan adalah akurasi, presisi, recall, F1-score, AUC, dan ROC\n",
        "\n",
        "def evaluate_model(y_true, y_pred, y_prob):\n",
        "    \"\"\"\n",
        "    Evaluates the model's performance using various metrics.\n",
        "\n",
        "    Args:\n",
        "        y_true: True labels.\n",
        "        y_pred: Predicted labels.\n",
        "        y_prob: Predicted probabilities.\n",
        "\n",
        "    Returns:\n",
        "        A dictionary containing the evaluation metrics.\n",
        "    \"\"\"\n",
        "\n",
        "    accuracy = accuracy_score(y_true, y_pred)\n",
        "    precision = precision_score(y_true, y_pred)\n",
        "    recall = recall_score(y_true, y_pred)\n",
        "    f1 = f1_score(y_true, y_pred)\n",
        "    auc_score = roc_auc_score(y_true, y_prob)\n",
        "\n",
        "    fpr, tpr, thresholds = roc_curve(y_true, y_prob)\n",
        "    roc_auc = auc(fpr, tpr)\n",
        "\n",
        "\n",
        "    # Calculate F1-squared\n",
        "    f1_squared = f1**2\n",
        "\n",
        "    evaluation_metrics = {\n",
        "        'Accuracy': accuracy,\n",
        "        'Precision': precision,\n",
        "        'Recall': recall,\n",
        "        'F1-Score': f1,\n",
        "        'F1-Squared': f1_squared,\n",
        "        'AUC': auc_score,\n",
        "        'ROC_AUC': roc_auc\n",
        "    }\n",
        "\n",
        "    return evaluation_metrics\n"
      ]
    },
    {
      "cell_type": "code",
      "execution_count": 23,
      "metadata": {
        "id": "TQSCo4VAAxL9"
      },
      "outputs": [],
      "source": [
        "def plot_confusion_matrix(y_true, y_pred, model_name):\n",
        "    \"\"\"\n",
        "    Displays a confusion matrix to evaluate the model, showing percentages.\n",
        "\n",
        "    Args:\n",
        "        y_true: True labels.\n",
        "        y_pred: Predicted labels.\n",
        "        model_name: Name of the model.\n",
        "    \"\"\"\n",
        "    cm = confusion_matrix(y_true, y_pred)\n",
        "    cm_percentage = cm.astype('float') / cm.sum() * 100 # Calculate percentages based on total\n",
        "\n",
        "    plt.figure(figsize=(8, 6))\n",
        "    ax = sns.heatmap(cm_percentage, annot=True, fmt=\".2f\", cmap=\"Blues\", # Display percentages with 2 decimal places\n",
        "                xticklabels=['0', '1'], yticklabels=['0', '1'])\n",
        "    plt.title(f'Confusion Matrix for {model_name} (Percentage)') # Update title\n",
        "    plt.xlabel('Predicted')\n",
        "    plt.ylabel('Actual')\n",
        "\n",
        "    # Iterasi setiap teks di dalam heatmap dan tambahkan tanda %\n",
        "    for t in ax.texts:\n",
        "        t.set_text(t.get_text() + \" %\")\n",
        "\n",
        "    plt.show()\n",
        "\n",
        "def plot_training_history(history, model_name):\n",
        "    \"\"\"\n",
        "    Displays the training history of the model.\n",
        "\n",
        "    Args:\n",
        "        history: Training history object.\n",
        "        model_name: Name of the model.\n",
        "    \"\"\"\n",
        "    if 'accuracy' in history:\n",
        "        plt.plot(history['val_accuracy'] if 'val_accuracy' in history else history['accuracy'])\n",
        "        plt.plot(history['accuracy'])\n",
        "        plt.title('Model accuracy')\n",
        "        plt.ylabel('Accuracy')\n",
        "        plt.xlabel('Epoch')\n",
        "        plt.legend(['Validation', 'Training'], loc='upper left')\n",
        "    plt.plot(history['val_loss'] if 'val_loss' in history else history['loss'])\n",
        "    plt.plot(history['loss'])\n",
        "    plt.yscale('log')\n",
        "    plt.title('Model loss')\n",
        "    plt.ylabel('Loss (log scale)')\n",
        "    plt.xlabel('Epoch')\n",
        "    if 'accuracy' in history:\n",
        "        plt.legend(['Validation accuracy', 'Training accuracy', 'Validation loss', 'Training loss'], loc='upper left')\n",
        "    elif 'val_loss' in history:\n",
        "        plt.legend(['Validation loss', 'Training loss'], loc='upper left')\n",
        "    else:\n",
        "        plt.legend(['Loss'], loc='upper left')\n",
        "    plt.show()\n"
      ]
    },
    {
      "cell_type": "markdown",
      "metadata": {
        "id": "GJs-N4XkE6aH"
      },
      "source": []
    },
    {
      "cell_type": "code",
      "execution_count": 24,
      "metadata": {
        "id": "9WYivTWSE5vY"
      },
      "outputs": [],
      "source": [
        "import torch\n",
        "import torch.nn as nn\n",
        "import torch.optim as optim\n",
        "from torch.utils.data import DataLoader, TensorDataset"
      ]
    },
    {
      "cell_type": "code",
      "execution_count": 25,
      "metadata": {
        "id": "S4Lfs9opFpWY"
      },
      "outputs": [],
      "source": [
        "# prompt: Mengonversi Dataset Menjadi Tipe Tensor PyTorch\n",
        "\n",
        "# Mengonversi data latih dan data uji menjadi tensor PyTorch\n",
        "X_train_tensor = torch.tensor(X_train, dtype=torch.float32)\n",
        "y_train_tensor = torch.tensor(y_train, dtype=torch.float32).reshape(-1, 1)  # Reshape y_train_tensor\n",
        "X_test_tensor = torch.tensor(X_test, dtype=torch.float32)\n",
        "y_test_tensor = torch.tensor(y_test, dtype=torch.float32).reshape(-1, 1)  # Reshape y_test_tensor\n",
        "\n",
        "# Membuat TensorDataset\n",
        "train_dataset = TensorDataset(X_train_tensor, y_train_tensor)\n",
        "test_dataset = TensorDataset(X_test_tensor, y_test_tensor)\n",
        "\n",
        "# Membuat DataLoader\n",
        "batch_size = 32  # Contoh ukuran batch\n",
        "train_loader = DataLoader(train_dataset, batch_size=batch_size, shuffle=True)\n",
        "test_loader = DataLoader(test_dataset, batch_size=batch_size, shuffle=False)\n"
      ]
    },
    {
      "cell_type": "code",
      "execution_count": 26,
      "metadata": {
        "id": "wUqGcQ2bFxlu"
      },
      "outputs": [],
      "source": [
        "# prompt: Menyusun Model Neural Network Sederhana pytorch\n",
        "\n",
        "# Define the neural network architecture\n",
        "class Net(nn.Module):\n",
        "    def __init__(self, input_size):\n",
        "        super(Net, self).__init__()\n",
        "        self.fc1 = nn.Linear(input_size, 64)\n",
        "        self.relu = nn.ReLU()\n",
        "        self.fc2 = nn.Linear(64, 32)\n",
        "        self.fc3 = nn.Linear(32, 1)\n",
        "        self.sigmoid = nn.Sigmoid()\n",
        "\n",
        "    def forward(self, x):\n",
        "        x = self.fc1(x)\n",
        "        x = self.relu(x)\n",
        "        x = self.fc2(x)\n",
        "        x = self.relu(x)\n",
        "        x = self.fc3(x)\n",
        "        x = self.sigmoid(x)\n",
        "        return x\n",
        "\n",
        "# Instantiate the model, define loss function, and optimizer\n",
        "input_size = X_train.shape[1]\n",
        "model = Net(input_size)"
      ]
    },
    {
      "cell_type": "code",
      "execution_count": 27,
      "metadata": {
        "id": "qM0UB3preNkI"
      },
      "outputs": [],
      "source": [
        "criterion = nn.BCELoss()  # Binary Cross Entropy Loss\n",
        "optimizer = optim.Adam(model.parameters(), lr=0.005)"
      ]
    },
    {
      "cell_type": "code",
      "execution_count": 28,
      "metadata": {
        "colab": {
          "base_uri": "https://localhost:8080/"
        },
        "id": "pLUzZm90etHg",
        "outputId": "bbe31b6d-c21e-4cab-fe45-55381c3ecd52"
      },
      "outputs": [
        {
          "name": "stdout",
          "output_type": "stream",
          "text": [
            "Epoch 0, loss=0.6693082451820374\n",
            "Epoch 10, loss=0.5549578666687012\n",
            "Epoch 20, loss=0.48267361521720886\n",
            "Epoch 30, loss=0.3836923837661743\n",
            "Epoch 40, loss=0.3542552888393402\n",
            "Epoch 50, loss=0.34735971689224243\n",
            "Epoch 60, loss=0.33987370133399963\n",
            "Epoch 70, loss=0.3347405195236206\n",
            "Epoch 80, loss=0.3302474915981293\n",
            "Epoch 90, loss=0.32572996616363525\n"
          ]
        }
      ],
      "source": [
        "# Melatih model\n",
        "num_epochs = 100 # Jumlah iterasi pelatihan\n",
        "history = pd.DataFrame() # Menyimpan statistik pelatihan\n",
        "for epoch in range(num_epochs):\n",
        "    optimizer.zero_grad() # Mengatur gradien menjadi 0 sebelum melakukan backpropagation\n",
        "    y_pred = model(X_train_tensor) # Memprediksi data latih\n",
        "    loss = criterion(y_pred, y_train_tensor) # Menghitung loss\n",
        "    loss.backward() # Backpropagation\n",
        "    optimizer.step() # Update bobot\n",
        "    if epoch % 10 == 0:\n",
        "        print(f'Epoch {epoch}, loss={loss.item()}')\n",
        "    # Menyimpan statistik pelatihan untuk menampilkan plot\n",
        "    history = pd.concat([history, pd.DataFrame({'epoch': [epoch], 'loss': [loss.item()]})], ignore_index=True)"
      ]
    },
    {
      "cell_type": "code",
      "execution_count": 29,
      "metadata": {
        "colab": {
          "base_uri": "https://localhost:8080/"
        },
        "id": "OarsAmmCeZhX",
        "outputId": "cc1f0ef2-a2a7-4895-94e5-df24bfd20aba"
      },
      "outputs": [
        {
          "name": "stdout",
          "output_type": "stream",
          "text": [
            "Accuracy: 0.8463\n",
            "Precision: 0.7452\n",
            "Recall: 0.5749\n",
            "F1-Score: 0.6491\n",
            "F1-Squared: 0.4213\n",
            "AUC: 0.9051\n",
            "ROC_AUC: 0.9051\n"
          ]
        }
      ],
      "source": [
        "# Evaluation\n",
        "y_pred_list = []\n",
        "y_prob_list = []\n",
        "with torch.no_grad():\n",
        "    for inputs, labels in test_loader:\n",
        "        outputs = model(inputs)\n",
        "        y_prob_list.extend(outputs.numpy())\n",
        "        predicted = (outputs > 0.5).float() # Convert probabilities to binary predictions\n",
        "        y_pred_list.extend(predicted.numpy())\n",
        "\n",
        "y_pred_list = np.array(y_pred_list).reshape(-1)\n",
        "y_prob_list = np.array(y_prob_list).reshape(-1)\n",
        "#Evaluate the model\n",
        "metrics = evaluate_model(y_test, y_pred_list, y_prob_list)\n",
        "for metric_name, metric_value in metrics.items():\n",
        "    print(f\"{metric_name}: {metric_value:.4f}\")"
      ]
    },
    {
      "cell_type": "code",
      "execution_count": 30,
      "metadata": {
        "colab": {
          "base_uri": "https://localhost:8080/",
          "height": 1000
        },
        "id": "jl6rqWAOf1Za",
        "outputId": "3b4e658c-ee0f-4d93-9969-620e6b1db95c"
      },
      "outputs": [
        {
          "data": {
            "image/png": "[encoded data removed]",
            "text/plain": [
              "<Figure size 800x600 with 2 Axes>"
            ]
          },
          "metadata": {},
          "output_type": "display_data"
        },
        {
          "data": {
            "image/png": "[encoded data removed]",
            "text/plain": [
              "<Figure size 640x480 with 1 Axes>"
            ]
          },
          "metadata": {},
          "output_type": "display_data"
        }
      ],
      "source": [
        "# prompt: Memvisualisasikan Prediksi dari model yang telah dilatih\n",
        "#  plot_confusion_matrix(y_true, y_pred, model_name):\n",
        "# def plot_training_history(history, model_name)\n",
        "\n",
        "plot_confusion_matrix(y_test, y_pred_list, 'Neural Network')\n",
        "# Assuming 'history' is available from the model training\n",
        "plot_training_history(history, 'Neural Network')\n"
      ]
    },
    {
      "cell_type": "markdown",
      "metadata": {
        "id": "qp7skxeSkcZH"
      },
      "source": []
    },
    {
      "cell_type": "code",
      "execution_count": 31,
      "metadata": {
        "id": "Hbfg7JbinlZG"
      },
      "outputs": [],
      "source": [
        "# import untuk menambah layer pada model\n",
        "import tensorflow as tf\n",
        "from tensorflow import keras\n",
        "# untuk membuat model neural network\n",
        "from keras.models import Sequential\n",
        "# untuk menambah layer pada model\n",
        "from keras.layers import Dense, Input"
      ]
    },
    {
      "cell_type": "code",
      "execution_count": 32,
      "metadata": {
        "id": "1buGIuqJmCb2"
      },
      "outputs": [],
      "source": [
        "# Menentukan hyperparameter model\n",
        "input_dim = X_train.shape[1] # Jumlah fitur\n",
        "hidden_dim = 64 # Jumlah neuron pada hidden layer\n",
        "output_dim = 1 # Jumlah neuron pada output layer\n",
        "\n",
        "# Inisialisasi model sequential\n",
        "# Changed input_shape to match the actual input data shape\n",
        "model_tf = Sequential([\n",
        "    Input(shape=(input_dim,)),\n",
        "    Dense(hidden_dim, activation='relu'), # Input layer\n",
        "    Dense(hidden_dim, activation='relu') ,\n",
        "    Dense(output_dim, activation='sigmoid')\n",
        "])"
      ]
    },
    {
      "cell_type": "code",
      "execution_count": 33,
      "metadata": {
        "colab": {
          "base_uri": "https://localhost:8080/",
          "height": 253
        },
        "id": "bPczCPImmg_p",
        "outputId": "f4f2f97b-e8f3-46b5-b482-6599917e7b3a"
      },
      "outputs": [
        {
          "data": {
            "text/html": [
              "<pre style=\"white-space:pre;overflow-x:auto;line-height:normal;font-family:Menlo,'DejaVu Sans Mono',consolas,'Courier New',monospace\"><span style=\"font-weight: bold\">Model: \"sequential\"</span>\n",
              "</pre>\n"
            ],
            "text/plain": [
              "\u001b[1mModel: \"sequential\"\u001b[0m\n"
            ]
          },
          "metadata": {},
          "output_type": "display_data"
        },
        {
          "data": {
            "text/html": [
              "<pre style=\"white-space:pre;overflow-x:auto;line-height:normal;font-family:Menlo,'DejaVu Sans Mono',consolas,'Courier New',monospace\">┏━━━━━━━━━━━━━━━━━━━━━━━━━━━━━━━━━┳━━━━━━━━━━━━━━━━━━━━━━━━┳━━━━━━━━━━━━━━━┓\n",
              "┃<span style=\"font-weight: bold\"> Layer (type)                    </span>┃<span style=\"font-weight: bold\"> Output Shape           </span>┃<span style=\"font-weight: bold\">       Param # </span>┃\n",
              "┡━━━━━━━━━━━━━━━━━━━━━━━━━━━━━━━━━╇━━━━━━━━━━━━━━━━━━━━━━━━╇━━━━━━━━━━━━━━━┩\n",
              "│ dense (<span style=\"color: #0087ff; text-decoration-color: #0087ff\">Dense</span>)                   │ (<span style=\"color: #00d7ff; text-decoration-color: #00d7ff\">None</span>, <span style=\"color: #00af00; text-decoration-color: #00af00\">64</span>)             │           <span style=\"color: #00af00; text-decoration-color: #00af00\">960</span> │\n",
              "├─────────────────────────────────┼────────────────────────┼───────────────┤\n",
              "│ dense_1 (<span style=\"color: #0087ff; text-decoration-color: #0087ff\">Dense</span>)                 │ (<span style=\"color: #00d7ff; text-decoration-color: #00d7ff\">None</span>, <span style=\"color: #00af00; text-decoration-color: #00af00\">64</span>)             │         <span style=\"color: #00af00; text-decoration-color: #00af00\">4,160</span> │\n",
              "├─────────────────────────────────┼────────────────────────┼───────────────┤\n",
              "│ dense_2 (<span style=\"color: #0087ff; text-decoration-color: #0087ff\">Dense</span>)                 │ (<span style=\"color: #00d7ff; text-decoration-color: #00d7ff\">None</span>, <span style=\"color: #00af00; text-decoration-color: #00af00\">1</span>)              │            <span style=\"color: #00af00; text-decoration-color: #00af00\">65</span> │\n",
              "└─────────────────────────────────┴────────────────────────┴───────────────┘\n",
              "</pre>\n"
            ],
            "text/plain": [
              "┏━━━━━━━━━━━━━━━━━━━━━━━━━━━━━━━━━┳━━━━━━━━━━━━━━━━━━━━━━━━┳━━━━━━━━━━━━━━━┓\n",
              "┃\u001b[1m \u001b[0m\u001b[1mLayer (type)                   \u001b[0m\u001b[1m \u001b[0m┃\u001b[1m \u001b[0m\u001b[1mOutput Shape          \u001b[0m\u001b[1m \u001b[0m┃\u001b[1m \u001b[0m\u001b[1m      Param #\u001b[0m\u001b[1m \u001b[0m┃\n",
              "┡━━━━━━━━━━━━━━━━━━━━━━━━━━━━━━━━━╇━━━━━━━━━━━━━━━━━━━━━━━━╇━━━━━━━━━━━━━━━┩\n",
              "│ dense (\u001b[38;5;33mDense\u001b[0m)                   │ (\u001b[38;5;45mNone\u001b[0m, \u001b[38;5;34m64\u001b[0m)             │           \u001b[38;5;34m960\u001b[0m │\n",
              "├─────────────────────────────────┼────────────────────────┼───────────────┤\n",
              "│ dense_1 (\u001b[38;5;33mDense\u001b[0m)                 │ (\u001b[38;5;45mNone\u001b[0m, \u001b[38;5;34m64\u001b[0m)             │         \u001b[38;5;34m4,160\u001b[0m │\n",
              "├─────────────────────────────────┼────────────────────────┼───────────────┤\n",
              "│ dense_2 (\u001b[38;5;33mDense\u001b[0m)                 │ (\u001b[38;5;45mNone\u001b[0m, \u001b[38;5;34m1\u001b[0m)              │            \u001b[38;5;34m65\u001b[0m │\n",
              "└─────────────────────────────────┴────────────────────────┴───────────────┘\n"
            ]
          },
          "metadata": {},
          "output_type": "display_data"
        },
        {
          "data": {
            "text/html": [
              "<pre style=\"white-space:pre;overflow-x:auto;line-height:normal;font-family:Menlo,'DejaVu Sans Mono',consolas,'Courier New',monospace\"><span style=\"font-weight: bold\"> Total params: </span><span style=\"color: #00af00; text-decoration-color: #00af00\">5,185</span> (20.25 KB)\n",
              "</pre>\n"
            ],
            "text/plain": [
              "\u001b[1m Total params: \u001b[0m\u001b[38;5;34m5,185\u001b[0m (20.25 KB)\n"
            ]
          },
          "metadata": {},
          "output_type": "display_data"
        },
        {
          "data": {
            "text/html": [
              "<pre style=\"white-space:pre;overflow-x:auto;line-height:normal;font-family:Menlo,'DejaVu Sans Mono',consolas,'Courier New',monospace\"><span style=\"font-weight: bold\"> Trainable params: </span><span style=\"color: #00af00; text-decoration-color: #00af00\">5,185</span> (20.25 KB)\n",
              "</pre>\n"
            ],
            "text/plain": [
              "\u001b[1m Trainable params: \u001b[0m\u001b[38;5;34m5,185\u001b[0m (20.25 KB)\n"
            ]
          },
          "metadata": {},
          "output_type": "display_data"
        },
        {
          "data": {
            "text/html": [
              "<pre style=\"white-space:pre;overflow-x:auto;line-height:normal;font-family:Menlo,'DejaVu Sans Mono',consolas,'Courier New',monospace\"><span style=\"font-weight: bold\"> Non-trainable params: </span><span style=\"color: #00af00; text-decoration-color: #00af00\">0</span> (0.00 B)\n",
              "</pre>\n"
            ],
            "text/plain": [
              "\u001b[1m Non-trainable params: \u001b[0m\u001b[38;5;34m0\u001b[0m (0.00 B)\n"
            ]
          },
          "metadata": {},
          "output_type": "display_data"
        }
      ],
      "source": [
        "# Compile model (tentukan optimizer, loss function, dan metrics)\n",
        "model_tf.compile(optimizer='adam', loss='binary_crossentropy', metrics=['accuracy'])\n",
        "\n",
        "# Print model summary\n",
        "model_tf.summary()"
      ]
    },
    {
      "cell_type": "code",
      "execution_count": 34,
      "metadata": {
        "colab": {
          "base_uri": "https://localhost:8080/"
        },
        "id": "DRLrkl6Pmkff",
        "outputId": "5abf65e2-d155-4e29-8d50-7338ebac8bab"
      },
      "outputs": [
        {
          "name": "stdout",
          "output_type": "stream",
          "text": [
            "Epoch 1/20\n",
            "\u001b[1m1191/1191\u001b[0m \u001b[32m━━━━━━━━━━━━━━━━━━━━\u001b[0m\u001b[37m\u001b[0m \u001b[1m6s\u001b[0m 2ms/step - accuracy: 0.7964 - loss: 0.4245 - val_accuracy: 0.8437 - val_loss: 0.3339\n",
            "Epoch 2/20\n",
            "\u001b[1m1191/1191\u001b[0m \u001b[32m━━━━━━━━━━━━━━━━━━━━\u001b[0m\u001b[37m\u001b[0m \u001b[1m3s\u001b[0m 3ms/step - accuracy: 0.8446 - loss: 0.3316 - val_accuracy: 0.8476 - val_loss: 0.3220\n",
            "Epoch 3/20\n",
            "\u001b[1m1191/1191\u001b[0m \u001b[32m━━━━━━━━━━━━━━━━━━━━\u001b[0m\u001b[37m\u001b[0m \u001b[1m2s\u001b[0m 2ms/step - accuracy: 0.8535 - loss: 0.3176 - val_accuracy: 0.8482 - val_loss: 0.3216\n",
            "Epoch 4/20\n",
            "\u001b[1m1191/1191\u001b[0m \u001b[32m━━━━━━━━━━━━━━━━━━━━\u001b[0m\u001b[37m\u001b[0m \u001b[1m3s\u001b[0m 2ms/step - accuracy: 0.8498 - loss: 0.3212 - val_accuracy: 0.8478 - val_loss: 0.3193\n",
            "Epoch 5/20\n",
            "\u001b[1m1191/1191\u001b[0m \u001b[32m━━━━━━━━━━━━━━━━━━━━\u001b[0m\u001b[37m\u001b[0m \u001b[1m3s\u001b[0m 2ms/step - accuracy: 0.8488 - loss: 0.3214 - val_accuracy: 0.8513 - val_loss: 0.3183\n",
            "Epoch 6/20\n",
            "\u001b[1m1191/1191\u001b[0m \u001b[32m━━━━━━━━━━━━━━━━━━━━\u001b[0m\u001b[37m\u001b[0m \u001b[1m3s\u001b[0m 2ms/step - accuracy: 0.8526 - loss: 0.3167 - val_accuracy: 0.8504 - val_loss: 0.3174\n",
            "Epoch 7/20\n",
            "\u001b[1m1191/1191\u001b[0m \u001b[32m━━━━━━━━━━━━━━━━━━━━\u001b[0m\u001b[37m\u001b[0m \u001b[1m3s\u001b[0m 3ms/step - accuracy: 0.8523 - loss: 0.3159 - val_accuracy: 0.8515 - val_loss: 0.3175\n",
            "Epoch 8/20\n",
            "\u001b[1m1191/1191\u001b[0m \u001b[32m━━━━━━━━━━━━━━━━━━━━\u001b[0m\u001b[37m\u001b[0m \u001b[1m2s\u001b[0m 2ms/step - accuracy: 0.8518 - loss: 0.3161 - val_accuracy: 0.8463 - val_loss: 0.3212\n",
            "Epoch 9/20\n",
            "\u001b[1m1191/1191\u001b[0m \u001b[32m━━━━━━━━━━━━━━━━━━━━\u001b[0m\u001b[37m\u001b[0m \u001b[1m4s\u001b[0m 3ms/step - accuracy: 0.8527 - loss: 0.3138 - val_accuracy: 0.8490 - val_loss: 0.3148\n",
            "Epoch 10/20\n",
            "\u001b[1m1191/1191\u001b[0m \u001b[32m━━━━━━━━━━━━━━━━━━━━\u001b[0m\u001b[37m\u001b[0m \u001b[1m2s\u001b[0m 2ms/step - accuracy: 0.8515 - loss: 0.3139 - val_accuracy: 0.8513 - val_loss: 0.3174\n",
            "Epoch 11/20\n",
            "\u001b[1m1191/1191\u001b[0m \u001b[32m━━━━━━━━━━━━━━━━━━━━\u001b[0m\u001b[37m\u001b[0m \u001b[1m3s\u001b[0m 3ms/step - accuracy: 0.8535 - loss: 0.3136 - val_accuracy: 0.8472 - val_loss: 0.3145\n",
            "Epoch 12/20\n",
            "\u001b[1m1191/1191\u001b[0m \u001b[32m━━━━━━━━━━━━━━━━━━━━\u001b[0m\u001b[37m\u001b[0m \u001b[1m3s\u001b[0m 2ms/step - accuracy: 0.8560 - loss: 0.3064 - val_accuracy: 0.8502 - val_loss: 0.3154\n",
            "Epoch 13/20\n",
            "\u001b[1m1191/1191\u001b[0m \u001b[32m━━━━━━━━━━━━━━━━━━━━\u001b[0m\u001b[37m\u001b[0m \u001b[1m3s\u001b[0m 2ms/step - accuracy: 0.8535 - loss: 0.3103 - val_accuracy: 0.8484 - val_loss: 0.3164\n",
            "Epoch 14/20\n",
            "\u001b[1m1191/1191\u001b[0m \u001b[32m━━━━━━━━━━━━━━━━━━━━\u001b[0m\u001b[37m\u001b[0m \u001b[1m4s\u001b[0m 3ms/step - accuracy: 0.8543 - loss: 0.3093 - val_accuracy: 0.8485 - val_loss: 0.3209\n",
            "Epoch 15/20\n",
            "\u001b[1m1191/1191\u001b[0m \u001b[32m━━━━━━━━━━━━━━━━━━━━\u001b[0m\u001b[37m\u001b[0m \u001b[1m3s\u001b[0m 3ms/step - accuracy: 0.8531 - loss: 0.3093 - val_accuracy: 0.8494 - val_loss: 0.3141\n",
            "Epoch 16/20\n",
            "\u001b[1m1191/1191\u001b[0m \u001b[32m━━━━━━━━━━━━━━━━━━━━\u001b[0m\u001b[37m\u001b[0m \u001b[1m3s\u001b[0m 2ms/step - accuracy: 0.8536 - loss: 0.3098 - val_accuracy: 0.8506 - val_loss: 0.3110\n",
            "Epoch 17/20\n",
            "\u001b[1m1191/1191\u001b[0m \u001b[32m━━━━━━━━━━━━━━━━━━━━\u001b[0m\u001b[37m\u001b[0m \u001b[1m3s\u001b[0m 2ms/step - accuracy: 0.8596 - loss: 0.3053 - val_accuracy: 0.8504 - val_loss: 0.3107\n",
            "Epoch 18/20\n",
            "\u001b[1m1191/1191\u001b[0m \u001b[32m━━━━━━━━━━━━━━━━━━━━\u001b[0m\u001b[37m\u001b[0m \u001b[1m3s\u001b[0m 3ms/step - accuracy: 0.8541 - loss: 0.3105 - val_accuracy: 0.8503 - val_loss: 0.3099\n",
            "Epoch 19/20\n",
            "\u001b[1m1191/1191\u001b[0m \u001b[32m━━━━━━━━━━━━━━━━━━━━\u001b[0m\u001b[37m\u001b[0m \u001b[1m3s\u001b[0m 2ms/step - accuracy: 0.8588 - loss: 0.3047 - val_accuracy: 0.8500 - val_loss: 0.3127\n",
            "Epoch 20/20\n",
            "\u001b[1m1191/1191\u001b[0m \u001b[32m━━━━━━━━━━━━━━━━━━━━\u001b[0m\u001b[37m\u001b[0m \u001b[1m3s\u001b[0m 3ms/step - accuracy: 0.8551 - loss: 0.3119 - val_accuracy: 0.8541 - val_loss: 0.3090\n"
          ]
        }
      ],
      "source": [
        "# Train the TensorFlow/Keras model\n",
        "history_tf = model_tf.fit(X_train, y_train, epochs=20, batch_size=32, validation_data=(X_test, y_test), verbose=1)"
      ]
    },
    {
      "cell_type": "code",
      "execution_count": 35,
      "metadata": {
        "colab": {
          "base_uri": "https://localhost:8080/"
        },
        "id": "41t0HxjWmnRP",
        "outputId": "f3b08cfc-85f0-485b-eef2-8f89acf10cb3"
      },
      "outputs": [
        {
          "name": "stdout",
          "output_type": "stream",
          "text": [
            "\u001b[1m298/298\u001b[0m \u001b[32m━━━━━━━━━━━━━━━━━━━━\u001b[0m\u001b[37m\u001b[0m \u001b[1m0s\u001b[0m 1ms/step\n",
            "Accuracy: 0.7729\n",
            "Precision: 0.5233\n",
            "Recall: 0.9168\n",
            "F1-Score: 0.6663\n",
            "F1-Squared: 0.4439\n",
            "AUC: 0.9137\n",
            "ROC_AUC: 0.9137\n"
          ]
        }
      ],
      "source": [
        "# Evaluate the model\n",
        "y_pred_prob = model_tf.predict(X_test)  # Use model_tf instead of model\n",
        "y_pred = (y_pred_prob > 0.2).astype(int)  # Convert probabilities to binary predictions\n",
        "\n",
        "metrics = evaluate_model(y_test, y_pred, y_pred_prob)\n",
        "for metric_name, metric_value in metrics.items():\n",
        "    print(f\"{metric_name}: {metric_value:.4f}\")"
      ]
    },
    {
      "cell_type": "code",
      "execution_count": 36,
      "metadata": {
        "colab": {
          "base_uri": "https://localhost:8080/",
          "height": 1000
        },
        "id": "alBFU4i0mquI",
        "outputId": "a410431f-1ac3-4ca2-d2c6-1d436140fdd7"
      },
      "outputs": [
        {
          "data": {
            "image/png": "[encoded data removed]",
            "text/plain": [
              "<Figure size 800x600 with 2 Axes>"
            ]
          },
          "metadata": {},
          "output_type": "display_data"
        },
        {
          "data": {
            "image/png": "[encoded data removed]",
            "text/plain": [
              "<Figure size 640x480 with 1 Axes>"
            ]
          },
          "metadata": {},
          "output_type": "display_data"
        }
      ],
      "source": [
        "plot_confusion_matrix(y_test, y_pred, 'TensorFlow Neural Network')\n",
        "plot_training_history(history_tf.history, 'TensorFlow Neural Network') # Changed history to history_tf.history"
      ]
    }
  ],
  "metadata": {
    "colab": {
      "authorship_tag": "ABX9TyNm2za/H+5ck4lnakeqvM7z",
      "include_colab_link": true,
      "provenance": []
    },
    "kernelspec": {
      "display_name": ".venv",
      "language": "python",
      "name": "python3"
    },
    "language_info": {
      "codemirror_mode": {
        "name": "ipython",
        "version": 3
      },
      "file_extension": ".py",
      "mimetype": "text/x-python",
      "name": "python",
      "nbconvert_exporter": "python",
      "pygments_lexer": "ipython3",
      "version": "3.12.10"
    }
  },
  "nbformat": 4,
  "nbformat_minor": 0
}
