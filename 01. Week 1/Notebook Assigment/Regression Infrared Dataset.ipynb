{
  "cells": [
    {
      "cell_type": "markdown",
      "metadata": {
        "colab_type": "text",
        "id": "view-in-github"
      },
      "source": [
        "<a href=\"https://colab.research.google.com/github/Pandu98-pkh/DeepLearning/blob/main/01.%20Week%201/Notebook%20Assigment/Regression%20Infrared%20Dataset.ipynb\" target=\"_parent\"><img src=\"https://colab.research.google.com/assets/colab-badge.svg\" alt=\"Open In Colab\"/></a>"
      ]
    },
    {
      "cell_type": "markdown",
      "metadata": {
        "id": "krWcDl8LqT2Y"
      },
      "source": [
        "# **Regression Infrared Dataset** ✨"
      ]
    },
    {
      "cell_type": "markdown",
      "metadata": {
        "id": "sVETQqJ9sNsl"
      },
      "source": [
        "## **1️⃣ Pemuatan dan Pemrosesan Data Awal**\n",
        "### **1.1 Installasi**"
      ]
    },
    {
      "cell_type": "code",
      "execution_count": 1,
      "metadata": {
        "colab": {
          "base_uri": "https://localhost:8080/"
        },
        "id": "dPItIkKyaWeE",
        "outputId": "e33eb348-650c-4305-e3bc-b98625f1f19d"
      },
      "outputs": [],
      "source": [
        "#!pip install torch torchvision\n",
        "#!pip install tensorflow\n",
        "#!pip install numpy pandas matplotlib scikit-learn"
      ]
    },
    {
      "cell_type": "markdown",
      "metadata": {
        "id": "78rOHWZSs26B"
      },
      "source": [
        "### **1.2 Import Library**"
      ]
    },
    {
      "cell_type": "code",
      "execution_count": 2,
      "metadata": {
        "id": "hBrBj2iktFtm"
      },
      "outputs": [],
      "source": [
        "import numpy as np\n",
        "import pandas as pd\n",
        "import matplotlib.pyplot as plt\n",
        "from sklearn.model_selection import train_test_split # untuk membagi data menjadi data latih dan data uji\n",
        "from sklearn.preprocessing import LabelEncoder # untuk mengubah label kelas menjadi angka\n",
        "from sklearn.metrics import mean_squared_error, r2_score\n",
        "import math"
      ]
    },
    {
      "cell_type": "markdown",
      "metadata": {
        "id": "SHi_wpBDtsH4"
      },
      "source": [
        "### **1.3 Memuat Dataset**"
      ]
    },
    {
      "cell_type": "code",
      "execution_count": 3,
      "metadata": {
        "id": "3Ze7O7c2t7lC"
      },
      "outputs": [],
      "source": [
        "url = \"https://raw.githubusercontent.com/Pandu98-pkh/DeepLearning/refs/heads/main/01.%20Week%201/Dataset/Infrared.csv\"\n",
        "\n",
        "try:\n",
        "  df = pd.read_csv(url)\n",
        "except Exception as e:\n",
        "  print(f\"Error loading dataset: {e}\")\n"
      ]
    },
    {
      "cell_type": "code",
      "execution_count": 4,
      "metadata": {
        "colab": {
          "base_uri": "https://localhost:8080/",
          "height": 638
        },
        "id": "hondIOAGxPQm",
        "outputId": "dc2a6522-3604-4d6b-ce2e-b9a28f96771d"
      },
      "outputs": [
        {
          "data": {
            "text/html": [
              "<div>\n",
              "<style scoped>\n",
              "    .dataframe tbody tr th:only-of-type {\n",
              "        vertical-align: middle;\n",
              "    }\n",
              "\n",
              "    .dataframe tbody tr th {\n",
              "        vertical-align: top;\n",
              "    }\n",
              "\n",
              "    .dataframe thead th {\n",
              "        text-align: right;\n",
              "    }\n",
              "</style>\n",
              "<table border=\"1\" class=\"dataframe\">\n",
              "  <thead>\n",
              "    <tr style=\"text-align: right;\">\n",
              "      <th></th>\n",
              "      <th>Gender</th>\n",
              "      <th>Age</th>\n",
              "      <th>Ethnicity</th>\n",
              "      <th>T_atm</th>\n",
              "      <th>Humidity</th>\n",
              "      <th>Distance</th>\n",
              "      <th>T_offset1</th>\n",
              "      <th>Max1R13_1</th>\n",
              "      <th>Max1L13_1</th>\n",
              "      <th>aveAllR13_1</th>\n",
              "      <th>...</th>\n",
              "      <th>T_FHRC1</th>\n",
              "      <th>T_FHLC1</th>\n",
              "      <th>T_FHBC1</th>\n",
              "      <th>T_FHTC1</th>\n",
              "      <th>T_FH_Max1</th>\n",
              "      <th>T_FHC_Max1</th>\n",
              "      <th>T_Max1</th>\n",
              "      <th>T_OR1</th>\n",
              "      <th>T_OR_Max1</th>\n",
              "      <th>aveOralM</th>\n",
              "    </tr>\n",
              "  </thead>\n",
              "  <tbody>\n",
              "    <tr>\n",
              "      <th>539</th>\n",
              "      <td>Female</td>\n",
              "      <td>21-25</td>\n",
              "      <td>Black or African-American</td>\n",
              "      <td>23.6</td>\n",
              "      <td>20.1</td>\n",
              "      <td>0.6</td>\n",
              "      <td>0.8175</td>\n",
              "      <td>35.4575</td>\n",
              "      <td>35.3625</td>\n",
              "      <td>34.5100</td>\n",
              "      <td>...</td>\n",
              "      <td>33.3400</td>\n",
              "      <td>33.3275</td>\n",
              "      <td>33.6675</td>\n",
              "      <td>33.6250</td>\n",
              "      <td>34.7725</td>\n",
              "      <td>34.0950</td>\n",
              "      <td>35.5825</td>\n",
              "      <td>35.0100</td>\n",
              "      <td>35.0450</td>\n",
              "      <td>36.39</td>\n",
              "    </tr>\n",
              "    <tr>\n",
              "      <th>413</th>\n",
              "      <td>Female</td>\n",
              "      <td>21-25</td>\n",
              "      <td>Asian</td>\n",
              "      <td>24.1</td>\n",
              "      <td>48.6</td>\n",
              "      <td>0.7</td>\n",
              "      <td>1.1150</td>\n",
              "      <td>34.9450</td>\n",
              "      <td>34.9750</td>\n",
              "      <td>34.5200</td>\n",
              "      <td>...</td>\n",
              "      <td>33.8700</td>\n",
              "      <td>34.4850</td>\n",
              "      <td>33.9500</td>\n",
              "      <td>34.7150</td>\n",
              "      <td>35.2150</td>\n",
              "      <td>34.9150</td>\n",
              "      <td>35.7450</td>\n",
              "      <td>35.6450</td>\n",
              "      <td>35.6650</td>\n",
              "      <td>36.64</td>\n",
              "    </tr>\n",
              "    <tr>\n",
              "      <th>509</th>\n",
              "      <td>Male</td>\n",
              "      <td>31-40</td>\n",
              "      <td>Asian</td>\n",
              "      <td>25.4</td>\n",
              "      <td>55.2</td>\n",
              "      <td>0.6</td>\n",
              "      <td>0.7775</td>\n",
              "      <td>35.3650</td>\n",
              "      <td>35.2600</td>\n",
              "      <td>34.9450</td>\n",
              "      <td>...</td>\n",
              "      <td>34.9875</td>\n",
              "      <td>34.8025</td>\n",
              "      <td>34.8950</td>\n",
              "      <td>34.6500</td>\n",
              "      <td>35.4675</td>\n",
              "      <td>35.1775</td>\n",
              "      <td>35.9550</td>\n",
              "      <td>35.9350</td>\n",
              "      <td>35.9550</td>\n",
              "      <td>36.89</td>\n",
              "    </tr>\n",
              "    <tr>\n",
              "      <th>633</th>\n",
              "      <td>Female</td>\n",
              "      <td>18-20</td>\n",
              "      <td>Asian</td>\n",
              "      <td>24.5</td>\n",
              "      <td>15.5</td>\n",
              "      <td>0.6</td>\n",
              "      <td>0.8875</td>\n",
              "      <td>35.7225</td>\n",
              "      <td>35.5750</td>\n",
              "      <td>35.3475</td>\n",
              "      <td>...</td>\n",
              "      <td>34.8750</td>\n",
              "      <td>35.1000</td>\n",
              "      <td>34.8150</td>\n",
              "      <td>35.0850</td>\n",
              "      <td>35.5200</td>\n",
              "      <td>35.4125</td>\n",
              "      <td>36.4950</td>\n",
              "      <td>36.3325</td>\n",
              "      <td>36.3525</td>\n",
              "      <td>37.14</td>\n",
              "    </tr>\n",
              "    <tr>\n",
              "      <th>475</th>\n",
              "      <td>Male</td>\n",
              "      <td>21-25</td>\n",
              "      <td>Asian</td>\n",
              "      <td>25.7</td>\n",
              "      <td>30.2</td>\n",
              "      <td>0.6</td>\n",
              "      <td>1.2150</td>\n",
              "      <td>36.0200</td>\n",
              "      <td>36.1700</td>\n",
              "      <td>35.1675</td>\n",
              "      <td>...</td>\n",
              "      <td>35.5150</td>\n",
              "      <td>35.7675</td>\n",
              "      <td>35.3275</td>\n",
              "      <td>35.7025</td>\n",
              "      <td>36.1550</td>\n",
              "      <td>35.9675</td>\n",
              "      <td>36.5000</td>\n",
              "      <td>36.0825</td>\n",
              "      <td>36.0975</td>\n",
              "      <td>37.74</td>\n",
              "    </tr>\n",
              "    <tr>\n",
              "      <th>604</th>\n",
              "      <td>Female</td>\n",
              "      <td>31-40</td>\n",
              "      <td>White</td>\n",
              "      <td>23.3</td>\n",
              "      <td>19.3</td>\n",
              "      <td>0.6</td>\n",
              "      <td>1.1850</td>\n",
              "      <td>35.1275</td>\n",
              "      <td>35.6375</td>\n",
              "      <td>33.9975</td>\n",
              "      <td>...</td>\n",
              "      <td>34.5375</td>\n",
              "      <td>34.4500</td>\n",
              "      <td>34.5450</td>\n",
              "      <td>34.7750</td>\n",
              "      <td>35.6650</td>\n",
              "      <td>35.1000</td>\n",
              "      <td>36.0300</td>\n",
              "      <td>35.9850</td>\n",
              "      <td>36.0025</td>\n",
              "      <td>37.24</td>\n",
              "    </tr>\n",
              "    <tr>\n",
              "      <th>545</th>\n",
              "      <td>Female</td>\n",
              "      <td>26-30</td>\n",
              "      <td>Black or African-American</td>\n",
              "      <td>24.2</td>\n",
              "      <td>20.3</td>\n",
              "      <td>0.6</td>\n",
              "      <td>0.7675</td>\n",
              "      <td>35.2175</td>\n",
              "      <td>35.3125</td>\n",
              "      <td>34.1925</td>\n",
              "      <td>...</td>\n",
              "      <td>33.3450</td>\n",
              "      <td>33.9850</td>\n",
              "      <td>33.0925</td>\n",
              "      <td>33.1000</td>\n",
              "      <td>34.8875</td>\n",
              "      <td>34.0100</td>\n",
              "      <td>35.6275</td>\n",
              "      <td>34.8650</td>\n",
              "      <td>34.9075</td>\n",
              "      <td>36.79</td>\n",
              "    </tr>\n",
              "    <tr>\n",
              "      <th>608</th>\n",
              "      <td>Female</td>\n",
              "      <td>21-25</td>\n",
              "      <td>Asian</td>\n",
              "      <td>23.5</td>\n",
              "      <td>12.5</td>\n",
              "      <td>0.6</td>\n",
              "      <td>0.6200</td>\n",
              "      <td>34.5975</td>\n",
              "      <td>34.5975</td>\n",
              "      <td>34.1400</td>\n",
              "      <td>...</td>\n",
              "      <td>34.0250</td>\n",
              "      <td>34.2000</td>\n",
              "      <td>33.8225</td>\n",
              "      <td>34.3100</td>\n",
              "      <td>34.9200</td>\n",
              "      <td>34.5725</td>\n",
              "      <td>35.2350</td>\n",
              "      <td>34.8550</td>\n",
              "      <td>34.8800</td>\n",
              "      <td>36.54</td>\n",
              "    </tr>\n",
              "    <tr>\n",
              "      <th>602</th>\n",
              "      <td>Male</td>\n",
              "      <td>31-40</td>\n",
              "      <td>White</td>\n",
              "      <td>23.4</td>\n",
              "      <td>15.1</td>\n",
              "      <td>0.7</td>\n",
              "      <td>0.9725</td>\n",
              "      <td>35.0725</td>\n",
              "      <td>34.7575</td>\n",
              "      <td>34.4325</td>\n",
              "      <td>...</td>\n",
              "      <td>33.5750</td>\n",
              "      <td>33.7325</td>\n",
              "      <td>33.7950</td>\n",
              "      <td>33.7875</td>\n",
              "      <td>34.5800</td>\n",
              "      <td>34.3500</td>\n",
              "      <td>35.4525</td>\n",
              "      <td>35.3350</td>\n",
              "      <td>35.3675</td>\n",
              "      <td>36.74</td>\n",
              "    </tr>\n",
              "    <tr>\n",
              "      <th>495</th>\n",
              "      <td>Female</td>\n",
              "      <td>18-20</td>\n",
              "      <td>Asian</td>\n",
              "      <td>24.5</td>\n",
              "      <td>39.2</td>\n",
              "      <td>0.6</td>\n",
              "      <td>1.0125</td>\n",
              "      <td>37.6825</td>\n",
              "      <td>37.6625</td>\n",
              "      <td>37.2275</td>\n",
              "      <td>...</td>\n",
              "      <td>35.8900</td>\n",
              "      <td>35.6350</td>\n",
              "      <td>35.9400</td>\n",
              "      <td>36.2275</td>\n",
              "      <td>36.5250</td>\n",
              "      <td>36.3925</td>\n",
              "      <td>37.7275</td>\n",
              "      <td>36.6425</td>\n",
              "      <td>36.6575</td>\n",
              "      <td>38.69</td>\n",
              "    </tr>\n",
              "  </tbody>\n",
              "</table>\n",
              "<p>10 rows × 34 columns</p>\n",
              "</div>"
            ],
            "text/plain": [
              "     Gender    Age                  Ethnicity  T_atm  Humidity  Distance  \\\n",
              "539  Female  21-25  Black or African-American   23.6      20.1       0.6   \n",
              "413  Female  21-25                      Asian   24.1      48.6       0.7   \n",
              "509    Male  31-40                      Asian   25.4      55.2       0.6   \n",
              "633  Female  18-20                      Asian   24.5      15.5       0.6   \n",
              "475    Male  21-25                      Asian   25.7      30.2       0.6   \n",
              "604  Female  31-40                      White   23.3      19.3       0.6   \n",
              "545  Female  26-30  Black or African-American   24.2      20.3       0.6   \n",
              "608  Female  21-25                      Asian   23.5      12.5       0.6   \n",
              "602    Male  31-40                      White   23.4      15.1       0.7   \n",
              "495  Female  18-20                      Asian   24.5      39.2       0.6   \n",
              "\n",
              "     T_offset1  Max1R13_1  Max1L13_1  aveAllR13_1  ...  T_FHRC1  T_FHLC1  \\\n",
              "539     0.8175    35.4575    35.3625      34.5100  ...  33.3400  33.3275   \n",
              "413     1.1150    34.9450    34.9750      34.5200  ...  33.8700  34.4850   \n",
              "509     0.7775    35.3650    35.2600      34.9450  ...  34.9875  34.8025   \n",
              "633     0.8875    35.7225    35.5750      35.3475  ...  34.8750  35.1000   \n",
              "475     1.2150    36.0200    36.1700      35.1675  ...  35.5150  35.7675   \n",
              "604     1.1850    35.1275    35.6375      33.9975  ...  34.5375  34.4500   \n",
              "545     0.7675    35.2175    35.3125      34.1925  ...  33.3450  33.9850   \n",
              "608     0.6200    34.5975    34.5975      34.1400  ...  34.0250  34.2000   \n",
              "602     0.9725    35.0725    34.7575      34.4325  ...  33.5750  33.7325   \n",
              "495     1.0125    37.6825    37.6625      37.2275  ...  35.8900  35.6350   \n",
              "\n",
              "     T_FHBC1  T_FHTC1  T_FH_Max1  T_FHC_Max1   T_Max1    T_OR1  T_OR_Max1  \\\n",
              "539  33.6675  33.6250    34.7725     34.0950  35.5825  35.0100    35.0450   \n",
              "413  33.9500  34.7150    35.2150     34.9150  35.7450  35.6450    35.6650   \n",
              "509  34.8950  34.6500    35.4675     35.1775  35.9550  35.9350    35.9550   \n",
              "633  34.8150  35.0850    35.5200     35.4125  36.4950  36.3325    36.3525   \n",
              "475  35.3275  35.7025    36.1550     35.9675  36.5000  36.0825    36.0975   \n",
              "604  34.5450  34.7750    35.6650     35.1000  36.0300  35.9850    36.0025   \n",
              "545  33.0925  33.1000    34.8875     34.0100  35.6275  34.8650    34.9075   \n",
              "608  33.8225  34.3100    34.9200     34.5725  35.2350  34.8550    34.8800   \n",
              "602  33.7950  33.7875    34.5800     34.3500  35.4525  35.3350    35.3675   \n",
              "495  35.9400  36.2275    36.5250     36.3925  37.7275  36.6425    36.6575   \n",
              "\n",
              "     aveOralM  \n",
              "539     36.39  \n",
              "413     36.64  \n",
              "509     36.89  \n",
              "633     37.14  \n",
              "475     37.74  \n",
              "604     37.24  \n",
              "545     36.79  \n",
              "608     36.54  \n",
              "602     36.74  \n",
              "495     38.69  \n",
              "\n",
              "[10 rows x 34 columns]"
            ]
          },
          "execution_count": 4,
          "metadata": {},
          "output_type": "execute_result"
        }
      ],
      "source": [
        "df.sample(10) # menampilkan 10 sample data secara acak"
      ]
    },
    {
      "cell_type": "code",
      "execution_count": 5,
      "metadata": {
        "colab": {
          "base_uri": "https://localhost:8080/",
          "height": 350
        },
        "id": "y338XibBykie",
        "outputId": "32c4bf70-ebfd-4f86-a14f-bd575771257f"
      },
      "outputs": [
        {
          "data": {
            "text/html": [
              "<div>\n",
              "<style scoped>\n",
              "    .dataframe tbody tr th:only-of-type {\n",
              "        vertical-align: middle;\n",
              "    }\n",
              "\n",
              "    .dataframe tbody tr th {\n",
              "        vertical-align: top;\n",
              "    }\n",
              "\n",
              "    .dataframe thead th {\n",
              "        text-align: right;\n",
              "    }\n",
              "</style>\n",
              "<table border=\"1\" class=\"dataframe\">\n",
              "  <thead>\n",
              "    <tr style=\"text-align: right;\">\n",
              "      <th></th>\n",
              "      <th>T_atm</th>\n",
              "      <th>Humidity</th>\n",
              "      <th>Distance</th>\n",
              "      <th>T_offset1</th>\n",
              "      <th>Max1R13_1</th>\n",
              "      <th>Max1L13_1</th>\n",
              "      <th>aveAllR13_1</th>\n",
              "      <th>aveAllL13_1</th>\n",
              "      <th>T_RC1</th>\n",
              "      <th>T_RC_Dry1</th>\n",
              "      <th>...</th>\n",
              "      <th>T_FHRC1</th>\n",
              "      <th>T_FHLC1</th>\n",
              "      <th>T_FHBC1</th>\n",
              "      <th>T_FHTC1</th>\n",
              "      <th>T_FH_Max1</th>\n",
              "      <th>T_FHC_Max1</th>\n",
              "      <th>T_Max1</th>\n",
              "      <th>T_OR1</th>\n",
              "      <th>T_OR_Max1</th>\n",
              "      <th>aveOralM</th>\n",
              "    </tr>\n",
              "  </thead>\n",
              "  <tbody>\n",
              "    <tr>\n",
              "      <th>count</th>\n",
              "      <td>1020.000000</td>\n",
              "      <td>1020.000000</td>\n",
              "      <td>1018.000000</td>\n",
              "      <td>1020.000000</td>\n",
              "      <td>1020.000000</td>\n",
              "      <td>1020.000000</td>\n",
              "      <td>1020.000000</td>\n",
              "      <td>1020.000000</td>\n",
              "      <td>1020.000000</td>\n",
              "      <td>1020.000000</td>\n",
              "      <td>...</td>\n",
              "      <td>1020.000000</td>\n",
              "      <td>1020.000000</td>\n",
              "      <td>1020.000000</td>\n",
              "      <td>1020.000000</td>\n",
              "      <td>1020.000000</td>\n",
              "      <td>1020.000000</td>\n",
              "      <td>1020.000000</td>\n",
              "      <td>1020.000000</td>\n",
              "      <td>1020.000000</td>\n",
              "      <td>1020.000000</td>\n",
              "    </tr>\n",
              "    <tr>\n",
              "      <th>mean</th>\n",
              "      <td>24.115392</td>\n",
              "      <td>28.723039</td>\n",
              "      <td>0.729784</td>\n",
              "      <td>0.968648</td>\n",
              "      <td>35.596533</td>\n",
              "      <td>35.611474</td>\n",
              "      <td>34.888475</td>\n",
              "      <td>35.011345</td>\n",
              "      <td>35.659921</td>\n",
              "      <td>35.587143</td>\n",
              "      <td>...</td>\n",
              "      <td>34.567782</td>\n",
              "      <td>34.565340</td>\n",
              "      <td>34.487701</td>\n",
              "      <td>34.577293</td>\n",
              "      <td>35.421555</td>\n",
              "      <td>35.094144</td>\n",
              "      <td>36.084785</td>\n",
              "      <td>35.805519</td>\n",
              "      <td>35.838277</td>\n",
              "      <td>37.028382</td>\n",
              "    </tr>\n",
              "    <tr>\n",
              "      <th>std</th>\n",
              "      <td>1.336338</td>\n",
              "      <td>13.071627</td>\n",
              "      <td>2.456486</td>\n",
              "      <td>0.362587</td>\n",
              "      <td>0.574888</td>\n",
              "      <td>0.549760</td>\n",
              "      <td>0.718613</td>\n",
              "      <td>0.633836</td>\n",
              "      <td>0.553897</td>\n",
              "      <td>0.569278</td>\n",
              "      <td>...</td>\n",
              "      <td>0.669410</td>\n",
              "      <td>0.678663</td>\n",
              "      <td>0.668065</td>\n",
              "      <td>0.728678</td>\n",
              "      <td>0.523477</td>\n",
              "      <td>0.576045</td>\n",
              "      <td>0.491821</td>\n",
              "      <td>0.559258</td>\n",
              "      <td>0.559316</td>\n",
              "      <td>0.509502</td>\n",
              "    </tr>\n",
              "    <tr>\n",
              "      <th>min</th>\n",
              "      <td>20.200000</td>\n",
              "      <td>9.900000</td>\n",
              "      <td>0.540000</td>\n",
              "      <td>-0.590000</td>\n",
              "      <td>33.897500</td>\n",
              "      <td>34.122500</td>\n",
              "      <td>31.770000</td>\n",
              "      <td>32.902500</td>\n",
              "      <td>33.985000</td>\n",
              "      <td>33.825000</td>\n",
              "      <td>...</td>\n",
              "      <td>31.452500</td>\n",
              "      <td>31.657500</td>\n",
              "      <td>31.280000</td>\n",
              "      <td>31.150000</td>\n",
              "      <td>33.407500</td>\n",
              "      <td>32.440000</td>\n",
              "      <td>34.892500</td>\n",
              "      <td>33.802500</td>\n",
              "      <td>33.835000</td>\n",
              "      <td>35.540000</td>\n",
              "    </tr>\n",
              "    <tr>\n",
              "      <th>25%</th>\n",
              "      <td>23.400000</td>\n",
              "      <td>17.600000</td>\n",
              "      <td>0.600000</td>\n",
              "      <td>0.772500</td>\n",
              "      <td>35.247500</td>\n",
              "      <td>35.271875</td>\n",
              "      <td>34.456250</td>\n",
              "      <td>34.651250</td>\n",
              "      <td>35.332500</td>\n",
              "      <td>35.249375</td>\n",
              "      <td>...</td>\n",
              "      <td>34.180000</td>\n",
              "      <td>34.177500</td>\n",
              "      <td>34.096875</td>\n",
              "      <td>34.225000</td>\n",
              "      <td>35.116875</td>\n",
              "      <td>34.756458</td>\n",
              "      <td>35.775000</td>\n",
              "      <td>35.474375</td>\n",
              "      <td>35.500000</td>\n",
              "      <td>36.777500</td>\n",
              "    </tr>\n",
              "    <tr>\n",
              "      <th>50%</th>\n",
              "      <td>24.000000</td>\n",
              "      <td>26.300000</td>\n",
              "      <td>0.620000</td>\n",
              "      <td>0.940000</td>\n",
              "      <td>35.548750</td>\n",
              "      <td>35.575000</td>\n",
              "      <td>34.915000</td>\n",
              "      <td>34.997500</td>\n",
              "      <td>35.602500</td>\n",
              "      <td>35.533750</td>\n",
              "      <td>...</td>\n",
              "      <td>34.597500</td>\n",
              "      <td>34.602500</td>\n",
              "      <td>34.512917</td>\n",
              "      <td>34.622500</td>\n",
              "      <td>35.391250</td>\n",
              "      <td>35.100000</td>\n",
              "      <td>36.027500</td>\n",
              "      <td>35.790000</td>\n",
              "      <td>35.825000</td>\n",
              "      <td>36.940000</td>\n",
              "    </tr>\n",
              "    <tr>\n",
              "      <th>75%</th>\n",
              "      <td>24.700000</td>\n",
              "      <td>36.200000</td>\n",
              "      <td>0.700000</td>\n",
              "      <td>1.140000</td>\n",
              "      <td>35.872500</td>\n",
              "      <td>35.883125</td>\n",
              "      <td>35.300000</td>\n",
              "      <td>35.363125</td>\n",
              "      <td>35.910625</td>\n",
              "      <td>35.855625</td>\n",
              "      <td>...</td>\n",
              "      <td>34.968125</td>\n",
              "      <td>34.965000</td>\n",
              "      <td>34.878125</td>\n",
              "      <td>35.012500</td>\n",
              "      <td>35.675000</td>\n",
              "      <td>35.415000</td>\n",
              "      <td>36.280000</td>\n",
              "      <td>36.087500</td>\n",
              "      <td>36.120625</td>\n",
              "      <td>37.140000</td>\n",
              "    </tr>\n",
              "    <tr>\n",
              "      <th>max</th>\n",
              "      <td>29.100000</td>\n",
              "      <td>61.200000</td>\n",
              "      <td>79.000000</td>\n",
              "      <td>2.875000</td>\n",
              "      <td>38.405000</td>\n",
              "      <td>38.042500</td>\n",
              "      <td>37.575000</td>\n",
              "      <td>37.680000</td>\n",
              "      <td>38.385000</td>\n",
              "      <td>38.380000</td>\n",
              "      <td>...</td>\n",
              "      <td>37.075000</td>\n",
              "      <td>37.165000</td>\n",
              "      <td>37.212500</td>\n",
              "      <td>37.367500</td>\n",
              "      <td>38.002500</td>\n",
              "      <td>37.632500</td>\n",
              "      <td>38.807500</td>\n",
              "      <td>38.417500</td>\n",
              "      <td>38.455000</td>\n",
              "      <td>40.340000</td>\n",
              "    </tr>\n",
              "  </tbody>\n",
              "</table>\n",
              "<p>8 rows × 31 columns</p>\n",
              "</div>"
            ],
            "text/plain": [
              "             T_atm     Humidity     Distance    T_offset1    Max1R13_1  \\\n",
              "count  1020.000000  1020.000000  1018.000000  1020.000000  1020.000000   \n",
              "mean     24.115392    28.723039     0.729784     0.968648    35.596533   \n",
              "std       1.336338    13.071627     2.456486     0.362587     0.574888   \n",
              "min      20.200000     9.900000     0.540000    -0.590000    33.897500   \n",
              "25%      23.400000    17.600000     0.600000     0.772500    35.247500   \n",
              "50%      24.000000    26.300000     0.620000     0.940000    35.548750   \n",
              "75%      24.700000    36.200000     0.700000     1.140000    35.872500   \n",
              "max      29.100000    61.200000    79.000000     2.875000    38.405000   \n",
              "\n",
              "         Max1L13_1  aveAllR13_1  aveAllL13_1        T_RC1    T_RC_Dry1  ...  \\\n",
              "count  1020.000000  1020.000000  1020.000000  1020.000000  1020.000000  ...   \n",
              "mean     35.611474    34.888475    35.011345    35.659921    35.587143  ...   \n",
              "std       0.549760     0.718613     0.633836     0.553897     0.569278  ...   \n",
              "min      34.122500    31.770000    32.902500    33.985000    33.825000  ...   \n",
              "25%      35.271875    34.456250    34.651250    35.332500    35.249375  ...   \n",
              "50%      35.575000    34.915000    34.997500    35.602500    35.533750  ...   \n",
              "75%      35.883125    35.300000    35.363125    35.910625    35.855625  ...   \n",
              "max      38.042500    37.575000    37.680000    38.385000    38.380000  ...   \n",
              "\n",
              "           T_FHRC1      T_FHLC1      T_FHBC1      T_FHTC1    T_FH_Max1  \\\n",
              "count  1020.000000  1020.000000  1020.000000  1020.000000  1020.000000   \n",
              "mean     34.567782    34.565340    34.487701    34.577293    35.421555   \n",
              "std       0.669410     0.678663     0.668065     0.728678     0.523477   \n",
              "min      31.452500    31.657500    31.280000    31.150000    33.407500   \n",
              "25%      34.180000    34.177500    34.096875    34.225000    35.116875   \n",
              "50%      34.597500    34.602500    34.512917    34.622500    35.391250   \n",
              "75%      34.968125    34.965000    34.878125    35.012500    35.675000   \n",
              "max      37.075000    37.165000    37.212500    37.367500    38.002500   \n",
              "\n",
              "        T_FHC_Max1       T_Max1        T_OR1    T_OR_Max1     aveOralM  \n",
              "count  1020.000000  1020.000000  1020.000000  1020.000000  1020.000000  \n",
              "mean     35.094144    36.084785    35.805519    35.838277    37.028382  \n",
              "std       0.576045     0.491821     0.559258     0.559316     0.509502  \n",
              "min      32.440000    34.892500    33.802500    33.835000    35.540000  \n",
              "25%      34.756458    35.775000    35.474375    35.500000    36.777500  \n",
              "50%      35.100000    36.027500    35.790000    35.825000    36.940000  \n",
              "75%      35.415000    36.280000    36.087500    36.120625    37.140000  \n",
              "max      37.632500    38.807500    38.417500    38.455000    40.340000  \n",
              "\n",
              "[8 rows x 31 columns]"
            ]
          },
          "execution_count": 5,
          "metadata": {},
          "output_type": "execute_result"
        }
      ],
      "source": [
        "df.describe()"
      ]
    },
    {
      "cell_type": "code",
      "execution_count": 6,
      "metadata": {
        "colab": {
          "base_uri": "https://localhost:8080/"
        },
        "id": "eOwtdgZm1qUZ",
        "outputId": "16e4a6ac-c2c8-4091-f409-89bb5e67edc8"
      },
      "outputs": [
        {
          "name": "stdout",
          "output_type": "stream",
          "text": [
            "<class 'pandas.core.frame.DataFrame'>\n",
            "RangeIndex: 1020 entries, 0 to 1019\n",
            "Data columns (total 34 columns):\n",
            " #   Column       Non-Null Count  Dtype  \n",
            "---  ------       --------------  -----  \n",
            " 0   Gender       1020 non-null   object \n",
            " 1   Age          1020 non-null   object \n",
            " 2   Ethnicity    1020 non-null   object \n",
            " 3   T_atm        1020 non-null   float64\n",
            " 4   Humidity     1020 non-null   float64\n",
            " 5   Distance     1018 non-null   float64\n",
            " 6   T_offset1    1020 non-null   float64\n",
            " 7   Max1R13_1    1020 non-null   float64\n",
            " 8   Max1L13_1    1020 non-null   float64\n",
            " 9   aveAllR13_1  1020 non-null   float64\n",
            " 10  aveAllL13_1  1020 non-null   float64\n",
            " 11  T_RC1        1020 non-null   float64\n",
            " 12  T_RC_Dry1    1020 non-null   float64\n",
            " 13  T_RC_Wet1    1020 non-null   float64\n",
            " 14  T_RC_Max1    1020 non-null   float64\n",
            " 15  T_LC1        1020 non-null   float64\n",
            " 16  T_LC_Dry1    1020 non-null   float64\n",
            " 17  T_LC_Wet1    1020 non-null   float64\n",
            " 18  T_LC_Max1    1020 non-null   float64\n",
            " 19  RCC1         1020 non-null   float64\n",
            " 20  LCC1         1020 non-null   float64\n",
            " 21  canthiMax1   1020 non-null   float64\n",
            " 22  canthi4Max1  1020 non-null   float64\n",
            " 23  T_FHCC1      1020 non-null   float64\n",
            " 24  T_FHRC1      1020 non-null   float64\n",
            " 25  T_FHLC1      1020 non-null   float64\n",
            " 26  T_FHBC1      1020 non-null   float64\n",
            " 27  T_FHTC1      1020 non-null   float64\n",
            " 28  T_FH_Max1    1020 non-null   float64\n",
            " 29  T_FHC_Max1   1020 non-null   float64\n",
            " 30  T_Max1       1020 non-null   float64\n",
            " 31  T_OR1        1020 non-null   float64\n",
            " 32  T_OR_Max1    1020 non-null   float64\n",
            " 33  aveOralM     1020 non-null   float64\n",
            "dtypes: float64(31), object(3)\n",
            "memory usage: 271.1+ KB\n"
          ]
        }
      ],
      "source": [
        "df.info()"
      ]
    },
    {
      "cell_type": "markdown",
      "metadata": {
        "id": "2zaNeFj70ItE"
      },
      "source": [
        "### **1.4 Mengonversi dan Menormalisasi Data**"
      ]
    },
    {
      "cell_type": "code",
      "execution_count": 7,
      "metadata": {
        "colab": {
          "base_uri": "https://localhost:8080/"
        },
        "id": "HPpjV2Vx0PoD",
        "outputId": "43ec180c-0ab6-497b-b437-e6ecfde3977a"
      },
      "outputs": [
        {
          "name": "stdout",
          "output_type": "stream",
          "text": [
            "[[ 1.      5.      5.     ... 35.6925 35.635  35.6525]\n",
            " [ 0.      4.      2.     ... 35.175  35.0925 35.1075]\n",
            " [ 0.      2.      5.     ... 35.9125 35.86   35.885 ]\n",
            " ...\n",
            " [ 0.      0.      2.     ... 36.535  35.965  35.9975]\n",
            " [ 1.      3.      3.     ... 35.86   35.415  35.435 ]\n",
            " [ 0.      0.      5.     ... 35.9725 35.89   35.9175]] [[36.59]\n",
            " [37.19]\n",
            " [37.34]\n",
            " ...\n",
            " [37.59]\n",
            " [37.29]\n",
            " [37.19]]\n"
          ]
        }
      ],
      "source": [
        "# Mengubah data kategorikal menjadi angka\n",
        "label_encoder = LabelEncoder()\n",
        "\n",
        "# Mengubah label 'Gender' menjadi angka\n",
        "df['Gender'] = label_encoder.fit_transform(df['Gender'])\n",
        "\n",
        "# Mengubah label 'Age' menjadi angka\n",
        "df['Age'] =label_encoder.fit_transform(df['Age'])\n",
        "\n",
        "# Mengubah label 'Ethnicity' menjadi angka\n",
        "df['Ethnicity'] = label_encoder.fit_transform(df['Ethnicity'])\n",
        "\n",
        "# Memisahkan kolom yang digunakan sebagai fitur dan label\n",
        "X = df.drop('aveOralM', axis=1).values # Mengasumsikan 'aveOralM' adalah kolom label\n",
        "y = df['aveOralM'].values.reshape(-1, 1)\n",
        "\n",
        "# menampilkan data fitur dan label\n",
        "print(X, y)\n",
        "\n",
        "# Memisahkan data menjadi data latih dan data uji\n",
        "X_train, X_test, y_train, y_test = train_test_split(X, y, test_size=0.2, random_state=42) # 80% data latih, 20% data uji\n",
        "\n",
        "X_train = np.nan_to_num(X_train)  # Ganti NaN dan inf dengan nilai numerik\n",
        "X_test = np.nan_to_num(X_test)"
      ]
    },
    {
      "cell_type": "markdown",
      "metadata": {
        "id": "q-V9FKOR7yWG"
      },
      "source": [
        "### **1.5 Mempersiapkan Rumus Evaluasi (MSE, RMSE, RSquared)**"
      ]
    },
    {
      "cell_type": "code",
      "execution_count": 8,
      "metadata": {
        "id": "sDxxOcB558qD"
      },
      "outputs": [],
      "source": [
        "def evaluate_model(y_true, y_pred):\n",
        "  \"\"\"\n",
        "  Evaluates the performance of a regression model using MSE, RMSE, and R-squared.\n",
        "\n",
        "  Args:\n",
        "    y_true: True target values.\n",
        "    y_pred: Predicted target values.\n",
        "\n",
        "  Returns:\n",
        "    A dictionary containing MSE, RMSE, and R-squared values.\n",
        "  \"\"\"\n",
        "\n",
        "  mse = mean_squared_error(y_true, y_pred)\n",
        "  rmse = math.sqrt(mse)\n",
        "  r2 = r2_score(y_true, y_pred)\n",
        "\n",
        "  return {\"MSE\": mse, \"RMSE\": rmse, \"R-squared\": r2}\n"
      ]
    },
    {
      "cell_type": "markdown",
      "metadata": {
        "id": "IdswZIKG75Gt"
      },
      "source": [
        "### **1.6 Membuat Fungsi Visualisasi**"
      ]
    },
    {
      "cell_type": "code",
      "execution_count": 9,
      "metadata": {
        "id": "38C1S36f61IB"
      },
      "outputs": [],
      "source": [
        "# Fungsinya untuk menampilkan plot hasil prediksi\n",
        "def plot_predictions(y_true, y_pred, model_name):\n",
        "  \"\"\"\n",
        "  Plots predicted vs. actual values for a regression model.\n",
        "\n",
        "  Args:\n",
        "    y_true: True target values.\n",
        "    y_pred: Predicted target values.\n",
        "    model_name: Name of the model for the plot title.\n",
        "  \"\"\"\n",
        "  plt.figure(figsize=(8, 6))\n",
        "  plt.scatter(y_true, y_pred)\n",
        "  plt.plot([min(y_true), max(y_true)], [min(y_true), max(y_true)], color='red', linestyle='--')  # Add diagonal line\n",
        "  plt.xlabel(\"Actual Values\")\n",
        "  plt.ylabel(\"Predicted Values\")\n",
        "  plt.title(f\"Predicted vs Actual Values ({model_name})\")\n",
        "  plt.grid(True)\n",
        "  plt.show()\n",
        "\n",
        "# # Fungsinya untuk menampilkan plot hasil training model\n",
        "def plot_training_history(history, model_name):\n",
        "    \"\"\"\n",
        "    Plots the training history (e.g., loss over epochs) for a model.\n",
        "\n",
        "    Args:\n",
        "        history: The training history object (e.g., from TensorFlow/Keras).\n",
        "        model_name: The name of the model for the plot title.\n",
        "    \"\"\"\n",
        "    plt.figure(figsize=(10, 5))\n",
        "\n",
        "    # Assuming history contains 'loss' and 'val_loss' keys\n",
        "    # Access the 'loss' column directly from the DataFrame\n",
        "    if 'loss' in history.columns:  # Check if 'loss' is a column\n",
        "        plt.plot(history['loss'], label='Training Loss')\n",
        "\n",
        "    plt.xlabel(\"Epochs\")\n",
        "    plt.ylabel(\"Loss\")\n",
        "    plt.title(f\"Training History ({model_name})\")\n",
        "    plt.legend()\n",
        "    plt.grid(True)\n",
        "    plt.show()\n"
      ]
    },
    {
      "cell_type": "markdown",
      "metadata": {
        "id": "gv2X2Iom60M9"
      },
      "source": [
        "## **2️⃣ Deep Learning dengan PyTorch**"
      ]
    },
    {
      "cell_type": "markdown",
      "metadata": {
        "id": "zU3FwhUx8mD0"
      },
      "source": [
        "### **2.1 Import Library**"
      ]
    },
    {
      "cell_type": "code",
      "execution_count": 10,
      "metadata": {
        "id": "Z4BxglDq8klX"
      },
      "outputs": [],
      "source": [
        "import torch\n",
        "import torch.nn as nn\n",
        "import torch.optim as optim"
      ]
    },
    {
      "cell_type": "markdown",
      "metadata": {
        "id": "MZD0cEcn9KME"
      },
      "source": [
        "### **2.2 Convert data to PyTorch tensors**"
      ]
    },
    {
      "cell_type": "code",
      "execution_count": 11,
      "metadata": {
        "id": "xDhwcmO_9J5o"
      },
      "outputs": [],
      "source": [
        "X_train_tensor = torch.tensor(X_train, dtype=torch.float32)\n",
        "y_train_tensor = torch.tensor(y_train, dtype=torch.float32)\n",
        "X_test_tensor = torch.tensor(X_test, dtype=torch.float32)\n",
        "y_test_tensor = torch.tensor(y_test, dtype=torch.float32)\n"
      ]
    },
    {
      "cell_type": "markdown",
      "metadata": {
        "id": "WxMdihVc9wJP"
      },
      "source": [
        "### **2.3 Susun Model Neural Network Sederhana**"
      ]
    },
    {
      "cell_type": "code",
      "execution_count": 12,
      "metadata": {
        "id": "f67FnpNT97MM"
      },
      "outputs": [],
      "source": [
        "# Define the neural network architecture\n",
        "class SimpleNN(torch.nn.Module):\n",
        "    def __init__(self, input_size, hidden_size, output_size):\n",
        "        super(SimpleNN, self).__init__()\n",
        "        self.fc1 = nn.Linear(input_size, hidden_size)\n",
        "        self.relu = nn.ReLU()\n",
        "        self.fc2 = nn.Linear(hidden_size, output_size)\n",
        "\n",
        "    def forward(self, x):\n",
        "        out = self.fc1(x)\n",
        "        out = self.relu(out)\n",
        "        out = self.fc2(out)\n",
        "        return out\n",
        "\n",
        "# Hyperparameters\n",
        "input_size = X_train.shape[1]  # Number of features\n",
        "hidden_size = 128  # Number of neurons in the hidden layer\n",
        "output_size = 1  # Output size (regression)\n",
        "learning_rate = 0.01\n",
        "num_epochs = 1000\n",
        "\n",
        "# Initialize the model, loss function, and optimizer\n",
        "model = SimpleNN(input_size, hidden_size, output_size)\n"
      ]
    },
    {
      "cell_type": "markdown",
      "metadata": {
        "id": "dLhfDkGzgvDh"
      },
      "source": [
        "### **2.4 Optimizer dan Loss Function**"
      ]
    },
    {
      "cell_type": "code",
      "execution_count": 13,
      "metadata": {
        "id": "4aNBsiLjAEWW"
      },
      "outputs": [],
      "source": [
        "criterion = nn.MSELoss()  # Mean Squared Error loss function\n",
        "optimizer = optim.Adam(model.parameters(), lr=learning_rate)"
      ]
    },
    {
      "cell_type": "markdown",
      "metadata": {
        "id": "O_PiJ3qVhI9a"
      },
      "source": [
        "### **2.5 Training Model**"
      ]
    },
    {
      "cell_type": "code",
      "execution_count": 14,
      "metadata": {
        "colab": {
          "base_uri": "https://localhost:8080/"
        },
        "id": "0lFMiPhFASRH",
        "outputId": "e4d5e3d5-c5dd-4030-fab0-0df50c7a717d"
      },
      "outputs": [
        {
          "name": "stdout",
          "output_type": "stream",
          "text": [
            "Epoch 0, loss=2413.26025390625\n",
            "Epoch 100, loss=0.23292727768421173\n",
            "Epoch 200, loss=0.16805319488048553\n",
            "Epoch 300, loss=0.15674467384815216\n",
            "Epoch 400, loss=0.15082557499408722\n",
            "Epoch 500, loss=0.1459977924823761\n",
            "Epoch 600, loss=0.1418740153312683\n",
            "Epoch 700, loss=0.1382513791322708\n",
            "Epoch 800, loss=0.1349886953830719\n",
            "Epoch 900, loss=0.13199563324451447\n"
          ]
        }
      ],
      "source": [
        "# Training loop\n",
        "history = pd.DataFrame() # to store the loss values for plotting later\n",
        "for epoch in range(num_epochs):\n",
        "    # Forward pass\n",
        "    outputs = model(X_train_tensor)\n",
        "    loss = criterion(outputs, y_train_tensor)\n",
        "\n",
        "    # Backward and optimize\n",
        "    optimizer.zero_grad()\n",
        "    loss.backward()\n",
        "    optimizer.step()\n",
        "\n",
        "    if epoch % 100 == 0:\n",
        "        print(f'Epoch {epoch}, loss={loss.item()}')\n",
        "\n",
        "    # Print progress\n",
        "    history = pd.concat([history, pd.DataFrame({'epoch': [epoch], 'loss': [loss.item()]})], ignore_index=True)"
      ]
    },
    {
      "cell_type": "markdown",
      "metadata": {
        "id": "me1Kq8E6gsbY"
      },
      "source": [
        "### **2.6 Evaluasi Model**"
      ]
    },
    {
      "cell_type": "code",
      "execution_count": 15,
      "metadata": {
        "colab": {
          "base_uri": "https://localhost:8080/"
        },
        "id": "PbSgexgIJf1p",
        "outputId": "5a1e3340-43f2-437d-c8b6-6cc69a13d534"
      },
      "outputs": [
        {
          "name": "stdout",
          "output_type": "stream",
          "text": [
            "Evaluation Results:\n",
            "MSE: 0.11930411135890873\n",
            "RMSE: 0.34540427235184673\n",
            "R-squared: 0.4334287822429158\n"
          ]
        }
      ],
      "source": [
        "# prompt: Mengevaluasi Model dengan Menghitung MSE, RMSE, dan RSquared'\n",
        "\n",
        "# Make predictions on the test set\n",
        "with torch.no_grad():\n",
        "    y_pred_tensor = model(X_test_tensor)\n",
        "    y_pred = y_pred_tensor.numpy()\n",
        "\n",
        "# Evaluate the model\n",
        "evaluation_results = evaluate_model(y_test, y_pred)\n",
        "\n",
        "# Print the evaluation metrics\n",
        "print(\"Evaluation Results:\")\n",
        "for metric, value in evaluation_results.items():\n",
        "    print(f\"{metric}: {value}\")\n"
      ]
    },
    {
      "cell_type": "markdown",
      "metadata": {
        "id": "essydwu8hZD6"
      },
      "source": [
        "### **2.7 Visualisasi Prediksi Model**"
      ]
    },
    {
      "cell_type": "code",
      "execution_count": 16,
      "metadata": {
        "colab": {
          "base_uri": "https://localhost:8080/",
          "height": 1000
        },
        "id": "-BPpXjoiKFQn",
        "outputId": "5a275eaf-0fa4-4bba-92af-a941b9dc0c9c"
      },
      "outputs": [
        {
          "data": {
            "image/png": "[encoded data removed]",
            "text/plain": [
              "<Figure size 800x600 with 1 Axes>"
            ]
          },
          "metadata": {},
          "output_type": "display_data"
        },
        {
          "data": {
            "image/png": "[encoded data removed]",
            "text/plain": [
              "<Figure size 1000x500 with 1 Axes>"
            ]
          },
          "metadata": {},
          "output_type": "display_data"
        }
      ],
      "source": [
        "# Visualize the predictions\n",
        "plot_predictions(y_test, y_pred, \"Pytorch\")\n",
        "\n",
        "# Visualize the training history (if available)\n",
        "plot_training_history(history, \"Pytorch\")\n",
        "\n",
        "# Save the model's state dictionary\n",
        "torch.save(model.state_dict(), 'Pytorch_model.pth')"
      ]
    },
    {
      "cell_type": "markdown",
      "metadata": {
        "id": "iPpm-u3TOHCh"
      },
      "source": [
        "## **3️⃣ Deep Learning dengan TensorFlow**"
      ]
    },
    {
      "cell_type": "markdown",
      "metadata": {
        "id": "U9Q3syUIeSxv"
      },
      "source": [
        "### **3.1 Import Library**"
      ]
    },
    {
      "cell_type": "code",
      "execution_count": 17,
      "metadata": {
        "id": "b--HmtY4OxIE"
      },
      "outputs": [],
      "source": [
        "# import untuk menambah layer pada model\n",
        "import tensorflow as tf\n",
        "from tensorflow import keras\n",
        "# untuk membuat model neural network\n",
        "from keras.models import Sequential\n",
        "# untuk menambah layer pada model\n",
        "from keras.layers import Dense, Input"
      ]
    },
    {
      "cell_type": "markdown",
      "metadata": {
        "id": "PUDO0Iy8eZ5Q"
      },
      "source": [
        "### **3.2 Susun Susun Model Neural Network**"
      ]
    },
    {
      "cell_type": "code",
      "execution_count": 18,
      "metadata": {
        "id": "YZaNvuDYPq0o"
      },
      "outputs": [],
      "source": [
        "# Menentukan hyperparameter model\n",
        "input_dim = X_train.shape[1] # Jumlah fitur\n",
        "hidden_dim = 128 # Jumlah neuron pada hidden layer\n",
        "output_dim = 1 # Jumlah neuron pada output layer\n",
        "\n",
        "# Inisialisasi model sequential\n",
        "model_tf = Sequential([\n",
        "    Input(shape=(input_dim,)), # Input layer\n",
        "    Dense(hidden_dim, activation='relu') , # Layer input 128 neuron\n",
        "    Dense(output_dim)  # Layer output 1 neuron\n",
        "])"
      ]
    },
    {
      "cell_type": "markdown",
      "metadata": {
        "id": "o1q-llRPerut"
      },
      "source": [
        "### **3.3 Compile Model**"
      ]
    },
    {
      "cell_type": "code",
      "execution_count": 19,
      "metadata": {
        "colab": {
          "base_uri": "https://localhost:8080/",
          "height": 204
        },
        "id": "ih0kMrT9U1B4",
        "outputId": "eba1472b-4a40-4f5b-ddee-b43416187f45"
      },
      "outputs": [
        {
          "data": {
            "text/html": [
              "<pre style=\"white-space:pre;overflow-x:auto;line-height:normal;font-family:Menlo,'DejaVu Sans Mono',consolas,'Courier New',monospace\"><span style=\"font-weight: bold\">Model: \"sequential\"</span>\n",
              "</pre>\n"
            ],
            "text/plain": [
              "\u001b[1mModel: \"sequential\"\u001b[0m\n"
            ]
          },
          "metadata": {},
          "output_type": "display_data"
        },
        {
          "data": {
            "text/html": [
              "<pre style=\"white-space:pre;overflow-x:auto;line-height:normal;font-family:Menlo,'DejaVu Sans Mono',consolas,'Courier New',monospace\">┏━━━━━━━━━━━━━━━━━━━━━━━━━━━━━━━━━┳━━━━━━━━━━━━━━━━━━━━━━━━┳━━━━━━━━━━━━━━━┓\n",
              "┃<span style=\"font-weight: bold\"> Layer (type)                    </span>┃<span style=\"font-weight: bold\"> Output Shape           </span>┃<span style=\"font-weight: bold\">       Param # </span>┃\n",
              "┡━━━━━━━━━━━━━━━━━━━━━━━━━━━━━━━━━╇━━━━━━━━━━━━━━━━━━━━━━━━╇━━━━━━━━━━━━━━━┩\n",
              "│ dense (<span style=\"color: #0087ff; text-decoration-color: #0087ff\">Dense</span>)                   │ (<span style=\"color: #00d7ff; text-decoration-color: #00d7ff\">None</span>, <span style=\"color: #00af00; text-decoration-color: #00af00\">128</span>)            │         <span style=\"color: #00af00; text-decoration-color: #00af00\">4,352</span> │\n",
              "├─────────────────────────────────┼────────────────────────┼───────────────┤\n",
              "│ dense_1 (<span style=\"color: #0087ff; text-decoration-color: #0087ff\">Dense</span>)                 │ (<span style=\"color: #00d7ff; text-decoration-color: #00d7ff\">None</span>, <span style=\"color: #00af00; text-decoration-color: #00af00\">1</span>)              │           <span style=\"color: #00af00; text-decoration-color: #00af00\">129</span> │\n",
              "└─────────────────────────────────┴────────────────────────┴───────────────┘\n",
              "</pre>\n"
            ],
            "text/plain": [
              "┏━━━━━━━━━━━━━━━━━━━━━━━━━━━━━━━━━┳━━━━━━━━━━━━━━━━━━━━━━━━┳━━━━━━━━━━━━━━━┓\n",
              "┃\u001b[1m \u001b[0m\u001b[1mLayer (type)                   \u001b[0m\u001b[1m \u001b[0m┃\u001b[1m \u001b[0m\u001b[1mOutput Shape          \u001b[0m\u001b[1m \u001b[0m┃\u001b[1m \u001b[0m\u001b[1m      Param #\u001b[0m\u001b[1m \u001b[0m┃\n",
              "┡━━━━━━━━━━━━━━━━━━━━━━━━━━━━━━━━━╇━━━━━━━━━━━━━━━━━━━━━━━━╇━━━━━━━━━━━━━━━┩\n",
              "│ dense (\u001b[38;5;33mDense\u001b[0m)                   │ (\u001b[38;5;45mNone\u001b[0m, \u001b[38;5;34m128\u001b[0m)            │         \u001b[38;5;34m4,352\u001b[0m │\n",
              "├─────────────────────────────────┼────────────────────────┼───────────────┤\n",
              "│ dense_1 (\u001b[38;5;33mDense\u001b[0m)                 │ (\u001b[38;5;45mNone\u001b[0m, \u001b[38;5;34m1\u001b[0m)              │           \u001b[38;5;34m129\u001b[0m │\n",
              "└─────────────────────────────────┴────────────────────────┴───────────────┘\n"
            ]
          },
          "metadata": {},
          "output_type": "display_data"
        },
        {
          "data": {
            "text/html": [
              "<pre style=\"white-space:pre;overflow-x:auto;line-height:normal;font-family:Menlo,'DejaVu Sans Mono',consolas,'Courier New',monospace\"><span style=\"font-weight: bold\"> Total params: </span><span style=\"color: #00af00; text-decoration-color: #00af00\">4,481</span> (17.50 KB)\n",
              "</pre>\n"
            ],
            "text/plain": [
              "\u001b[1m Total params: \u001b[0m\u001b[38;5;34m4,481\u001b[0m (17.50 KB)\n"
            ]
          },
          "metadata": {},
          "output_type": "display_data"
        },
        {
          "data": {
            "text/html": [
              "<pre style=\"white-space:pre;overflow-x:auto;line-height:normal;font-family:Menlo,'DejaVu Sans Mono',consolas,'Courier New',monospace\"><span style=\"font-weight: bold\"> Trainable params: </span><span style=\"color: #00af00; text-decoration-color: #00af00\">4,481</span> (17.50 KB)\n",
              "</pre>\n"
            ],
            "text/plain": [
              "\u001b[1m Trainable params: \u001b[0m\u001b[38;5;34m4,481\u001b[0m (17.50 KB)\n"
            ]
          },
          "metadata": {},
          "output_type": "display_data"
        },
        {
          "data": {
            "text/html": [
              "<pre style=\"white-space:pre;overflow-x:auto;line-height:normal;font-family:Menlo,'DejaVu Sans Mono',consolas,'Courier New',monospace\"><span style=\"font-weight: bold\"> Non-trainable params: </span><span style=\"color: #00af00; text-decoration-color: #00af00\">0</span> (0.00 B)\n",
              "</pre>\n"
            ],
            "text/plain": [
              "\u001b[1m Non-trainable params: \u001b[0m\u001b[38;5;34m0\u001b[0m (0.00 B)\n"
            ]
          },
          "metadata": {},
          "output_type": "display_data"
        }
      ],
      "source": [
        "# Compile model (tentukan optimizer, loss function, dan metrics)\n",
        "model_tf.compile(optimizer='adam', loss='mse', metrics=['mae']) # Contoh penggunaan Adam optimizer dan Mean Squared Error loss\n",
        "\n",
        "# Print model summary\n",
        "model_tf.summary()\n"
      ]
    },
    {
      "cell_type": "markdown",
      "metadata": {
        "id": "Q1yMRwZ9e6gF"
      },
      "source": [
        "### **3.4 Training Model**"
      ]
    },
    {
      "cell_type": "code",
      "execution_count": 20,
      "metadata": {
        "colab": {
          "base_uri": "https://localhost:8080/"
        },
        "id": "adIUrjqdcXC5",
        "outputId": "ab288921-89a1-411e-dfcc-f98ae8ef0f6f"
      },
      "outputs": [
        {
          "name": "stdout",
          "output_type": "stream",
          "text": [
            "Epoch 1/100\n",
            "\u001b[1m21/21\u001b[0m \u001b[32m━━━━━━━━━━━━━━━━━━━━\u001b[0m\u001b[37m\u001b[0m \u001b[1m1s\u001b[0m 14ms/step - loss: 71.6830 - mae: 6.9357 - val_loss: 14.2847 - val_mae: 3.5479\n",
            "Epoch 2/100\n",
            "\u001b[1m21/21\u001b[0m \u001b[32m━━━━━━━━━━━━━━━━━━━━\u001b[0m\u001b[37m\u001b[0m \u001b[1m0s\u001b[0m 9ms/step - loss: 7.3576 - mae: 2.2680 - val_loss: 0.7910 - val_mae: 0.7548\n",
            "Epoch 3/100\n",
            "\u001b[1m21/21\u001b[0m \u001b[32m━━━━━━━━━━━━━━━━━━━━\u001b[0m\u001b[37m\u001b[0m \u001b[1m0s\u001b[0m 13ms/step - loss: 1.1124 - mae: 0.8800 - val_loss: 0.4627 - val_mae: 0.5469\n",
            "Epoch 4/100\n",
            "\u001b[1m21/21\u001b[0m \u001b[32m━━━━━━━━━━━━━━━━━━━━\u001b[0m\u001b[37m\u001b[0m \u001b[1m0s\u001b[0m 10ms/step - loss: 0.5396 - mae: 0.5929 - val_loss: 0.3306 - val_mae: 0.4715\n",
            "Epoch 5/100\n",
            "\u001b[1m21/21\u001b[0m \u001b[32m━━━━━━━━━━━━━━━━━━━━\u001b[0m\u001b[37m\u001b[0m \u001b[1m0s\u001b[0m 9ms/step - loss: 0.2785 - mae: 0.4239 - val_loss: 0.2046 - val_mae: 0.3640\n",
            "Epoch 6/100\n",
            "\u001b[1m21/21\u001b[0m \u001b[32m━━━━━━━━━━━━━━━━━━━━\u001b[0m\u001b[37m\u001b[0m \u001b[1m0s\u001b[0m 8ms/step - loss: 0.1603 - mae: 0.3186 - val_loss: 0.1689 - val_mae: 0.3272\n",
            "Epoch 7/100\n",
            "\u001b[1m21/21\u001b[0m \u001b[32m━━━━━━━━━━━━━━━━━━━━\u001b[0m\u001b[37m\u001b[0m \u001b[1m0s\u001b[0m 8ms/step - loss: 0.1524 - mae: 0.3051 - val_loss: 0.1922 - val_mae: 0.3401\n",
            "Epoch 8/100\n",
            "\u001b[1m21/21\u001b[0m \u001b[32m━━━━━━━━━━━━━━━━━━━━\u001b[0m\u001b[37m\u001b[0m \u001b[1m0s\u001b[0m 9ms/step - loss: 0.1654 - mae: 0.3224 - val_loss: 0.1566 - val_mae: 0.3104\n",
            "Epoch 9/100\n",
            "\u001b[1m21/21\u001b[0m \u001b[32m━━━━━━━━━━━━━━━━━━━━\u001b[0m\u001b[37m\u001b[0m \u001b[1m0s\u001b[0m 8ms/step - loss: 0.1323 - mae: 0.2867 - val_loss: 0.1565 - val_mae: 0.3095\n",
            "Epoch 10/100\n",
            "\u001b[1m21/21\u001b[0m \u001b[32m━━━━━━━━━━━━━━━━━━━━\u001b[0m\u001b[37m\u001b[0m \u001b[1m0s\u001b[0m 7ms/step - loss: 0.1298 - mae: 0.2800 - val_loss: 0.1898 - val_mae: 0.3473\n",
            "Epoch 11/100\n",
            "\u001b[1m21/21\u001b[0m \u001b[32m━━━━━━━━━━━━━━━━━━━━\u001b[0m\u001b[37m\u001b[0m \u001b[1m0s\u001b[0m 7ms/step - loss: 0.1403 - mae: 0.2895 - val_loss: 0.1670 - val_mae: 0.3209\n",
            "Epoch 12/100\n",
            "\u001b[1m21/21\u001b[0m \u001b[32m━━━━━━━━━━━━━━━━━━━━\u001b[0m\u001b[37m\u001b[0m \u001b[1m0s\u001b[0m 7ms/step - loss: 0.1251 - mae: 0.2774 - val_loss: 0.1530 - val_mae: 0.3061\n",
            "Epoch 13/100\n",
            "\u001b[1m21/21\u001b[0m \u001b[32m━━━━━━━━━━━━━━━━━━━━\u001b[0m\u001b[37m\u001b[0m \u001b[1m0s\u001b[0m 7ms/step - loss: 0.1199 - mae: 0.2756 - val_loss: 0.1501 - val_mae: 0.3021\n",
            "Epoch 14/100\n",
            "\u001b[1m21/21\u001b[0m \u001b[32m━━━━━━━━━━━━━━━━━━━━\u001b[0m\u001b[37m\u001b[0m \u001b[1m0s\u001b[0m 5ms/step - loss: 0.1152 - mae: 0.2705 - val_loss: 0.1519 - val_mae: 0.3028\n",
            "Epoch 15/100\n",
            "\u001b[1m21/21\u001b[0m \u001b[32m━━━━━━━━━━━━━━━━━━━━\u001b[0m\u001b[37m\u001b[0m \u001b[1m0s\u001b[0m 5ms/step - loss: 0.1223 - mae: 0.2765 - val_loss: 0.1482 - val_mae: 0.3003\n",
            "Epoch 16/100\n",
            "\u001b[1m21/21\u001b[0m \u001b[32m━━━━━━━━━━━━━━━━━━━━\u001b[0m\u001b[37m\u001b[0m \u001b[1m0s\u001b[0m 5ms/step - loss: 0.1428 - mae: 0.3017 - val_loss: 0.1576 - val_mae: 0.3120\n",
            "Epoch 17/100\n",
            "\u001b[1m21/21\u001b[0m \u001b[32m━━━━━━━━━━━━━━━━━━━━\u001b[0m\u001b[37m\u001b[0m \u001b[1m0s\u001b[0m 5ms/step - loss: 0.1307 - mae: 0.2884 - val_loss: 0.1463 - val_mae: 0.2984\n",
            "Epoch 18/100\n",
            "\u001b[1m21/21\u001b[0m \u001b[32m━━━━━━━━━━━━━━━━━━━━\u001b[0m\u001b[37m\u001b[0m \u001b[1m0s\u001b[0m 5ms/step - loss: 0.1150 - mae: 0.2683 - val_loss: 0.1460 - val_mae: 0.2967\n",
            "Epoch 19/100\n",
            "\u001b[1m21/21\u001b[0m \u001b[32m━━━━━━━━━━━━━━━━━━━━\u001b[0m\u001b[37m\u001b[0m \u001b[1m0s\u001b[0m 5ms/step - loss: 0.1274 - mae: 0.2830 - val_loss: 0.1447 - val_mae: 0.2962\n",
            "Epoch 20/100\n",
            "\u001b[1m21/21\u001b[0m \u001b[32m━━━━━━━━━━━━━━━━━━━━\u001b[0m\u001b[37m\u001b[0m \u001b[1m0s\u001b[0m 5ms/step - loss: 0.1322 - mae: 0.2804 - val_loss: 0.1466 - val_mae: 0.2961\n",
            "Epoch 21/100\n",
            "\u001b[1m21/21\u001b[0m \u001b[32m━━━━━━━━━━━━━━━━━━━━\u001b[0m\u001b[37m\u001b[0m \u001b[1m0s\u001b[0m 5ms/step - loss: 0.1282 - mae: 0.2807 - val_loss: 0.1831 - val_mae: 0.3389\n",
            "Epoch 22/100\n",
            "\u001b[1m21/21\u001b[0m \u001b[32m━━━━━━━━━━━━━━━━━━━━\u001b[0m\u001b[37m\u001b[0m \u001b[1m0s\u001b[0m 5ms/step - loss: 0.1372 - mae: 0.2876 - val_loss: 0.1423 - val_mae: 0.2949\n",
            "Epoch 23/100\n",
            "\u001b[1m21/21\u001b[0m \u001b[32m━━━━━━━━━━━━━━━━━━━━\u001b[0m\u001b[37m\u001b[0m \u001b[1m0s\u001b[0m 5ms/step - loss: 0.1097 - mae: 0.2623 - val_loss: 0.1616 - val_mae: 0.3150\n",
            "Epoch 24/100\n",
            "\u001b[1m21/21\u001b[0m \u001b[32m━━━━━━━━━━━━━━━━━━━━\u001b[0m\u001b[37m\u001b[0m \u001b[1m0s\u001b[0m 5ms/step - loss: 0.1242 - mae: 0.2713 - val_loss: 0.2065 - val_mae: 0.3665\n",
            "Epoch 25/100\n",
            "\u001b[1m21/21\u001b[0m \u001b[32m━━━━━━━━━━━━━━━━━━━━\u001b[0m\u001b[37m\u001b[0m \u001b[1m0s\u001b[0m 5ms/step - loss: 0.1336 - mae: 0.2865 - val_loss: 0.1401 - val_mae: 0.2935\n",
            "Epoch 26/100\n",
            "\u001b[1m21/21\u001b[0m \u001b[32m━━━━━━━━━━━━━━━━━━━━\u001b[0m\u001b[37m\u001b[0m \u001b[1m0s\u001b[0m 5ms/step - loss: 0.1115 - mae: 0.2631 - val_loss: 0.1411 - val_mae: 0.2954\n",
            "Epoch 27/100\n",
            "\u001b[1m21/21\u001b[0m \u001b[32m━━━━━━━━━━━━━━━━━━━━\u001b[0m\u001b[37m\u001b[0m \u001b[1m0s\u001b[0m 5ms/step - loss: 0.1192 - mae: 0.2753 - val_loss: 0.1406 - val_mae: 0.2895\n",
            "Epoch 28/100\n",
            "\u001b[1m21/21\u001b[0m \u001b[32m━━━━━━━━━━━━━━━━━━━━\u001b[0m\u001b[37m\u001b[0m \u001b[1m0s\u001b[0m 5ms/step - loss: 0.1108 - mae: 0.2605 - val_loss: 0.1463 - val_mae: 0.2955\n",
            "Epoch 29/100\n",
            "\u001b[1m21/21\u001b[0m \u001b[32m━━━━━━━━━━━━━━━━━━━━\u001b[0m\u001b[37m\u001b[0m \u001b[1m0s\u001b[0m 5ms/step - loss: 0.1352 - mae: 0.2947 - val_loss: 0.1386 - val_mae: 0.2880\n",
            "Epoch 30/100\n",
            "\u001b[1m21/21\u001b[0m \u001b[32m━━━━━━━━━━━━━━━━━━━━\u001b[0m\u001b[37m\u001b[0m \u001b[1m0s\u001b[0m 5ms/step - loss: 0.1187 - mae: 0.2742 - val_loss: 0.1434 - val_mae: 0.2983\n",
            "Epoch 31/100\n",
            "\u001b[1m21/21\u001b[0m \u001b[32m━━━━━━━━━━━━━━━━━━━━\u001b[0m\u001b[37m\u001b[0m \u001b[1m0s\u001b[0m 5ms/step - loss: 0.1198 - mae: 0.2703 - val_loss: 0.1605 - val_mae: 0.3189\n",
            "Epoch 32/100\n",
            "\u001b[1m21/21\u001b[0m \u001b[32m━━━━━━━━━━━━━━━━━━━━\u001b[0m\u001b[37m\u001b[0m \u001b[1m0s\u001b[0m 5ms/step - loss: 0.1300 - mae: 0.2787 - val_loss: 0.1910 - val_mae: 0.3497\n",
            "Epoch 33/100\n",
            "\u001b[1m21/21\u001b[0m \u001b[32m━━━━━━━━━━━━━━━━━━━━\u001b[0m\u001b[37m\u001b[0m \u001b[1m0s\u001b[0m 5ms/step - loss: 0.1580 - mae: 0.3091 - val_loss: 0.1517 - val_mae: 0.3027\n",
            "Epoch 34/100\n",
            "\u001b[1m21/21\u001b[0m \u001b[32m━━━━━━━━━━━━━━━━━━━━\u001b[0m\u001b[37m\u001b[0m \u001b[1m0s\u001b[0m 5ms/step - loss: 0.1196 - mae: 0.2707 - val_loss: 0.1784 - val_mae: 0.3348\n",
            "Epoch 35/100\n",
            "\u001b[1m21/21\u001b[0m \u001b[32m━━━━━━━━━━━━━━━━━━━━\u001b[0m\u001b[37m\u001b[0m \u001b[1m0s\u001b[0m 5ms/step - loss: 0.1168 - mae: 0.2742 - val_loss: 0.1432 - val_mae: 0.2914\n",
            "Epoch 36/100\n",
            "\u001b[1m21/21\u001b[0m \u001b[32m━━━━━━━━━━━━━━━━━━━━\u001b[0m\u001b[37m\u001b[0m \u001b[1m0s\u001b[0m 5ms/step - loss: 0.1117 - mae: 0.2618 - val_loss: 0.1338 - val_mae: 0.2859\n",
            "Epoch 37/100\n",
            "\u001b[1m21/21\u001b[0m \u001b[32m━━━━━━━━━━━━━━━━━━━━\u001b[0m\u001b[37m\u001b[0m \u001b[1m0s\u001b[0m 5ms/step - loss: 0.1140 - mae: 0.2672 - val_loss: 0.1338 - val_mae: 0.2822\n",
            "Epoch 38/100\n",
            "\u001b[1m21/21\u001b[0m \u001b[32m━━━━━━━━━━━━━━━━━━━━\u001b[0m\u001b[37m\u001b[0m \u001b[1m0s\u001b[0m 5ms/step - loss: 0.1106 - mae: 0.2571 - val_loss: 0.1458 - val_mae: 0.3037\n",
            "Epoch 39/100\n",
            "\u001b[1m21/21\u001b[0m \u001b[32m━━━━━━━━━━━━━━━━━━━━\u001b[0m\u001b[37m\u001b[0m \u001b[1m0s\u001b[0m 5ms/step - loss: 0.1277 - mae: 0.2766 - val_loss: 0.1317 - val_mae: 0.2807\n",
            "Epoch 40/100\n",
            "\u001b[1m21/21\u001b[0m \u001b[32m━━━━━━━━━━━━━━━━━━━━\u001b[0m\u001b[37m\u001b[0m \u001b[1m0s\u001b[0m 5ms/step - loss: 0.1149 - mae: 0.2604 - val_loss: 0.1533 - val_mae: 0.3121\n",
            "Epoch 41/100\n",
            "\u001b[1m21/21\u001b[0m \u001b[32m━━━━━━━━━━━━━━━━━━━━\u001b[0m\u001b[37m\u001b[0m \u001b[1m0s\u001b[0m 5ms/step - loss: 0.1416 - mae: 0.3016 - val_loss: 0.2651 - val_mae: 0.4242\n",
            "Epoch 42/100\n",
            "\u001b[1m21/21\u001b[0m \u001b[32m━━━━━━━━━━━━━━━━━━━━\u001b[0m\u001b[37m\u001b[0m \u001b[1m0s\u001b[0m 5ms/step - loss: 0.1897 - mae: 0.3481 - val_loss: 0.1300 - val_mae: 0.2820\n",
            "Epoch 43/100\n",
            "\u001b[1m21/21\u001b[0m \u001b[32m━━━━━━━━━━━━━━━━━━━━\u001b[0m\u001b[37m\u001b[0m \u001b[1m0s\u001b[0m 5ms/step - loss: 0.1399 - mae: 0.2896 - val_loss: 0.1297 - val_mae: 0.2779\n",
            "Epoch 44/100\n",
            "\u001b[1m21/21\u001b[0m \u001b[32m━━━━━━━━━━━━━━━━━━━━\u001b[0m\u001b[37m\u001b[0m \u001b[1m0s\u001b[0m 6ms/step - loss: 0.1158 - mae: 0.2594 - val_loss: 0.1343 - val_mae: 0.2819\n",
            "Epoch 45/100\n",
            "\u001b[1m21/21\u001b[0m \u001b[32m━━━━━━━━━━━━━━━━━━━━\u001b[0m\u001b[37m\u001b[0m \u001b[1m0s\u001b[0m 7ms/step - loss: 0.1058 - mae: 0.2521 - val_loss: 0.2068 - val_mae: 0.3675\n",
            "Epoch 46/100\n",
            "\u001b[1m21/21\u001b[0m \u001b[32m━━━━━━━━━━━━━━━━━━━━\u001b[0m\u001b[37m\u001b[0m \u001b[1m0s\u001b[0m 7ms/step - loss: 0.1396 - mae: 0.3023 - val_loss: 0.1276 - val_mae: 0.2782\n",
            "Epoch 47/100\n",
            "\u001b[1m21/21\u001b[0m \u001b[32m━━━━━━━━━━━━━━━━━━━━\u001b[0m\u001b[37m\u001b[0m \u001b[1m0s\u001b[0m 7ms/step - loss: 0.1030 - mae: 0.2498 - val_loss: 0.1318 - val_mae: 0.2885\n",
            "Epoch 48/100\n",
            "\u001b[1m21/21\u001b[0m \u001b[32m━━━━━━━━━━━━━━━━━━━━\u001b[0m\u001b[37m\u001b[0m \u001b[1m0s\u001b[0m 7ms/step - loss: 0.1082 - mae: 0.2584 - val_loss: 0.1293 - val_mae: 0.2769\n",
            "Epoch 49/100\n",
            "\u001b[1m21/21\u001b[0m \u001b[32m━━━━━━━━━━━━━━━━━━━━\u001b[0m\u001b[37m\u001b[0m \u001b[1m0s\u001b[0m 7ms/step - loss: 0.1231 - mae: 0.2757 - val_loss: 0.4283 - val_mae: 0.5689\n",
            "Epoch 50/100\n",
            "\u001b[1m21/21\u001b[0m \u001b[32m━━━━━━━━━━━━━━━━━━━━\u001b[0m\u001b[37m\u001b[0m \u001b[1m0s\u001b[0m 8ms/step - loss: 0.2178 - mae: 0.3823 - val_loss: 0.2059 - val_mae: 0.3659\n",
            "Epoch 51/100\n",
            "\u001b[1m21/21\u001b[0m \u001b[32m━━━━━━━━━━━━━━━━━━━━\u001b[0m\u001b[37m\u001b[0m \u001b[1m0s\u001b[0m 8ms/step - loss: 0.1553 - mae: 0.3207 - val_loss: 0.1377 - val_mae: 0.2961\n",
            "Epoch 52/100\n",
            "\u001b[1m21/21\u001b[0m \u001b[32m━━━━━━━━━━━━━━━━━━━━\u001b[0m\u001b[37m\u001b[0m \u001b[1m0s\u001b[0m 7ms/step - loss: 0.1170 - mae: 0.2694 - val_loss: 0.1340 - val_mae: 0.2908\n",
            "Epoch 53/100\n",
            "\u001b[1m21/21\u001b[0m \u001b[32m━━━━━━━━━━━━━━━━━━━━\u001b[0m\u001b[37m\u001b[0m \u001b[1m0s\u001b[0m 7ms/step - loss: 0.1335 - mae: 0.2885 - val_loss: 0.1261 - val_mae: 0.2789\n",
            "Epoch 54/100\n",
            "\u001b[1m21/21\u001b[0m \u001b[32m━━━━━━━━━━━━━━━━━━━━\u001b[0m\u001b[37m\u001b[0m \u001b[1m0s\u001b[0m 10ms/step - loss: 0.1299 - mae: 0.2844 - val_loss: 0.1698 - val_mae: 0.3255\n",
            "Epoch 55/100\n",
            "\u001b[1m21/21\u001b[0m \u001b[32m━━━━━━━━━━━━━━━━━━━━\u001b[0m\u001b[37m\u001b[0m \u001b[1m0s\u001b[0m 8ms/step - loss: 0.1197 - mae: 0.2650 - val_loss: 0.2255 - val_mae: 0.3862\n",
            "Epoch 56/100\n",
            "\u001b[1m21/21\u001b[0m \u001b[32m━━━━━━━━━━━━━━━━━━━━\u001b[0m\u001b[37m\u001b[0m \u001b[1m0s\u001b[0m 8ms/step - loss: 0.1170 - mae: 0.2646 - val_loss: 0.2372 - val_mae: 0.4006\n",
            "Epoch 57/100\n",
            "\u001b[1m21/21\u001b[0m \u001b[32m━━━━━━━━━━━━━━━━━━━━\u001b[0m\u001b[37m\u001b[0m \u001b[1m0s\u001b[0m 6ms/step - loss: 0.1470 - mae: 0.3077 - val_loss: 0.1323 - val_mae: 0.2887\n",
            "Epoch 58/100\n",
            "\u001b[1m21/21\u001b[0m \u001b[32m━━━━━━━━━━━━━━━━━━━━\u001b[0m\u001b[37m\u001b[0m \u001b[1m0s\u001b[0m 5ms/step - loss: 0.1104 - mae: 0.2583 - val_loss: 0.1347 - val_mae: 0.2912\n",
            "Epoch 59/100\n",
            "\u001b[1m21/21\u001b[0m \u001b[32m━━━━━━━━━━━━━━━━━━━━\u001b[0m\u001b[37m\u001b[0m \u001b[1m0s\u001b[0m 5ms/step - loss: 0.1428 - mae: 0.3000 - val_loss: 0.1223 - val_mae: 0.2743\n",
            "Epoch 60/100\n",
            "\u001b[1m21/21\u001b[0m \u001b[32m━━━━━━━━━━━━━━━━━━━━\u001b[0m\u001b[37m\u001b[0m \u001b[1m0s\u001b[0m 5ms/step - loss: 0.1022 - mae: 0.2521 - val_loss: 0.1383 - val_mae: 0.2953\n",
            "Epoch 61/100\n",
            "\u001b[1m21/21\u001b[0m \u001b[32m━━━━━━━━━━━━━━━━━━━━\u001b[0m\u001b[37m\u001b[0m \u001b[1m0s\u001b[0m 5ms/step - loss: 0.1176 - mae: 0.2731 - val_loss: 0.1278 - val_mae: 0.2751\n",
            "Epoch 62/100\n",
            "\u001b[1m21/21\u001b[0m \u001b[32m━━━━━━━━━━━━━━━━━━━━\u001b[0m\u001b[37m\u001b[0m \u001b[1m0s\u001b[0m 5ms/step - loss: 0.1120 - mae: 0.2582 - val_loss: 0.1454 - val_mae: 0.2965\n",
            "Epoch 63/100\n",
            "\u001b[1m21/21\u001b[0m \u001b[32m━━━━━━━━━━━━━━━━━━━━\u001b[0m\u001b[37m\u001b[0m \u001b[1m0s\u001b[0m 5ms/step - loss: 0.1020 - mae: 0.2420 - val_loss: 0.1213 - val_mae: 0.2706\n",
            "Epoch 64/100\n",
            "\u001b[1m21/21\u001b[0m \u001b[32m━━━━━━━━━━━━━━━━━━━━\u001b[0m\u001b[37m\u001b[0m \u001b[1m0s\u001b[0m 5ms/step - loss: 0.1069 - mae: 0.2475 - val_loss: 0.2190 - val_mae: 0.3797\n",
            "Epoch 65/100\n",
            "\u001b[1m21/21\u001b[0m \u001b[32m━━━━━━━━━━━━━━━━━━━━\u001b[0m\u001b[37m\u001b[0m \u001b[1m0s\u001b[0m 5ms/step - loss: 0.1946 - mae: 0.3588 - val_loss: 0.1430 - val_mae: 0.3006\n",
            "Epoch 66/100\n",
            "\u001b[1m21/21\u001b[0m \u001b[32m━━━━━━━━━━━━━━━━━━━━\u001b[0m\u001b[37m\u001b[0m \u001b[1m0s\u001b[0m 5ms/step - loss: 0.1288 - mae: 0.2896 - val_loss: 0.2396 - val_mae: 0.4045\n",
            "Epoch 67/100\n",
            "\u001b[1m21/21\u001b[0m \u001b[32m━━━━━━━━━━━━━━━━━━━━\u001b[0m\u001b[37m\u001b[0m \u001b[1m0s\u001b[0m 5ms/step - loss: 0.1497 - mae: 0.3101 - val_loss: 0.1736 - val_mae: 0.3308\n",
            "Epoch 68/100\n",
            "\u001b[1m21/21\u001b[0m \u001b[32m━━━━━━━━━━━━━━━━━━━━\u001b[0m\u001b[37m\u001b[0m \u001b[1m0s\u001b[0m 5ms/step - loss: 0.1407 - mae: 0.2903 - val_loss: 0.1303 - val_mae: 0.2784\n",
            "Epoch 69/100\n",
            "\u001b[1m21/21\u001b[0m \u001b[32m━━━━━━━━━━━━━━━━━━━━\u001b[0m\u001b[37m\u001b[0m \u001b[1m0s\u001b[0m 5ms/step - loss: 0.1243 - mae: 0.2693 - val_loss: 0.1191 - val_mae: 0.2676\n",
            "Epoch 70/100\n",
            "\u001b[1m21/21\u001b[0m \u001b[32m━━━━━━━━━━━━━━━━━━━━\u001b[0m\u001b[37m\u001b[0m \u001b[1m0s\u001b[0m 5ms/step - loss: 0.1025 - mae: 0.2412 - val_loss: 0.1217 - val_mae: 0.2740\n",
            "Epoch 71/100\n",
            "\u001b[1m21/21\u001b[0m \u001b[32m━━━━━━━━━━━━━━━━━━━━\u001b[0m\u001b[37m\u001b[0m \u001b[1m0s\u001b[0m 5ms/step - loss: 0.1089 - mae: 0.2521 - val_loss: 0.1396 - val_mae: 0.2892\n",
            "Epoch 72/100\n",
            "\u001b[1m21/21\u001b[0m \u001b[32m━━━━━━━━━━━━━━━━━━━━\u001b[0m\u001b[37m\u001b[0m \u001b[1m0s\u001b[0m 5ms/step - loss: 0.1262 - mae: 0.2719 - val_loss: 0.1684 - val_mae: 0.3289\n",
            "Epoch 73/100\n",
            "\u001b[1m21/21\u001b[0m \u001b[32m━━━━━━━━━━━━━━━━━━━━\u001b[0m\u001b[37m\u001b[0m \u001b[1m0s\u001b[0m 5ms/step - loss: 0.1288 - mae: 0.2811 - val_loss: 0.1212 - val_mae: 0.2669\n",
            "Epoch 74/100\n",
            "\u001b[1m21/21\u001b[0m \u001b[32m━━━━━━━━━━━━━━━━━━━━\u001b[0m\u001b[37m\u001b[0m \u001b[1m0s\u001b[0m 9ms/step - loss: 0.1349 - mae: 0.2838 - val_loss: 0.1200 - val_mae: 0.2675\n",
            "Epoch 75/100\n",
            "\u001b[1m21/21\u001b[0m \u001b[32m━━━━━━━━━━━━━━━━━━━━\u001b[0m\u001b[37m\u001b[0m \u001b[1m0s\u001b[0m 5ms/step - loss: 0.1319 - mae: 0.2874 - val_loss: 0.1729 - val_mae: 0.3301\n",
            "Epoch 76/100\n",
            "\u001b[1m21/21\u001b[0m \u001b[32m━━━━━━━━━━━━━━━━━━━━\u001b[0m\u001b[37m\u001b[0m \u001b[1m0s\u001b[0m 5ms/step - loss: 0.1269 - mae: 0.2755 - val_loss: 0.1175 - val_mae: 0.2652\n",
            "Epoch 77/100\n",
            "\u001b[1m21/21\u001b[0m \u001b[32m━━━━━━━━━━━━━━━━━━━━\u001b[0m\u001b[37m\u001b[0m \u001b[1m0s\u001b[0m 5ms/step - loss: 0.1098 - mae: 0.2551 - val_loss: 0.1914 - val_mae: 0.3549\n",
            "Epoch 78/100\n",
            "\u001b[1m21/21\u001b[0m \u001b[32m━━━━━━━━━━━━━━━━━━━━\u001b[0m\u001b[37m\u001b[0m \u001b[1m0s\u001b[0m 6ms/step - loss: 0.2304 - mae: 0.4022 - val_loss: 0.5433 - val_mae: 0.6658\n",
            "Epoch 79/100\n",
            "\u001b[1m21/21\u001b[0m \u001b[32m━━━━━━━━━━━━━━━━━━━━\u001b[0m\u001b[37m\u001b[0m \u001b[1m0s\u001b[0m 5ms/step - loss: 0.2910 - mae: 0.4539 - val_loss: 0.4190 - val_mae: 0.5684\n",
            "Epoch 80/100\n",
            "\u001b[1m21/21\u001b[0m \u001b[32m━━━━━━━━━━━━━━━━━━━━\u001b[0m\u001b[37m\u001b[0m \u001b[1m0s\u001b[0m 5ms/step - loss: 0.2459 - mae: 0.4058 - val_loss: 0.1571 - val_mae: 0.3112\n",
            "Epoch 81/100\n",
            "\u001b[1m21/21\u001b[0m \u001b[32m━━━━━━━━━━━━━━━━━━━━\u001b[0m\u001b[37m\u001b[0m \u001b[1m0s\u001b[0m 5ms/step - loss: 0.1034 - mae: 0.2538 - val_loss: 0.1249 - val_mae: 0.2779\n",
            "Epoch 82/100\n",
            "\u001b[1m21/21\u001b[0m \u001b[32m━━━━━━━━━━━━━━━━━━━━\u001b[0m\u001b[37m\u001b[0m \u001b[1m0s\u001b[0m 5ms/step - loss: 0.1273 - mae: 0.2891 - val_loss: 0.1212 - val_mae: 0.2673\n",
            "Epoch 83/100\n",
            "\u001b[1m21/21\u001b[0m \u001b[32m━━━━━━━━━━━━━━━━━━━━\u001b[0m\u001b[37m\u001b[0m \u001b[1m0s\u001b[0m 5ms/step - loss: 0.1154 - mae: 0.2666 - val_loss: 0.1327 - val_mae: 0.2882\n",
            "Epoch 84/100\n",
            "\u001b[1m21/21\u001b[0m \u001b[32m━━━━━━━━━━━━━━━━━━━━\u001b[0m\u001b[37m\u001b[0m \u001b[1m0s\u001b[0m 6ms/step - loss: 0.1389 - mae: 0.3025 - val_loss: 0.1301 - val_mae: 0.2855\n",
            "Epoch 85/100\n",
            "\u001b[1m21/21\u001b[0m \u001b[32m━━━━━━━━━━━━━━━━━━━━\u001b[0m\u001b[37m\u001b[0m \u001b[1m0s\u001b[0m 5ms/step - loss: 0.1084 - mae: 0.2651 - val_loss: 0.2435 - val_mae: 0.4057\n",
            "Epoch 86/100\n",
            "\u001b[1m21/21\u001b[0m \u001b[32m━━━━━━━━━━━━━━━━━━━━\u001b[0m\u001b[37m\u001b[0m \u001b[1m0s\u001b[0m 7ms/step - loss: 0.1197 - mae: 0.2740 - val_loss: 0.3465 - val_mae: 0.5091\n",
            "Epoch 87/100\n",
            "\u001b[1m21/21\u001b[0m \u001b[32m━━━━━━━━━━━━━━━━━━━━\u001b[0m\u001b[37m\u001b[0m \u001b[1m0s\u001b[0m 11ms/step - loss: 0.1748 - mae: 0.3370 - val_loss: 0.1251 - val_mae: 0.2725\n",
            "Epoch 88/100\n",
            "\u001b[1m21/21\u001b[0m \u001b[32m━━━━━━━━━━━━━━━━━━━━\u001b[0m\u001b[37m\u001b[0m \u001b[1m0s\u001b[0m 7ms/step - loss: 0.1334 - mae: 0.2918 - val_loss: 0.3069 - val_mae: 0.4680\n",
            "Epoch 89/100\n",
            "\u001b[1m21/21\u001b[0m \u001b[32m━━━━━━━━━━━━━━━━━━━━\u001b[0m\u001b[37m\u001b[0m \u001b[1m0s\u001b[0m 8ms/step - loss: 0.1552 - mae: 0.3215 - val_loss: 0.1139 - val_mae: 0.2623\n",
            "Epoch 90/100\n",
            "\u001b[1m21/21\u001b[0m \u001b[32m━━━━━━━━━━━━━━━━━━━━\u001b[0m\u001b[37m\u001b[0m \u001b[1m0s\u001b[0m 10ms/step - loss: 0.1077 - mae: 0.2591 - val_loss: 0.1305 - val_mae: 0.2788\n",
            "Epoch 91/100\n",
            "\u001b[1m21/21\u001b[0m \u001b[32m━━━━━━━━━━━━━━━━━━━━\u001b[0m\u001b[37m\u001b[0m \u001b[1m0s\u001b[0m 10ms/step - loss: 0.1255 - mae: 0.2782 - val_loss: 0.1147 - val_mae: 0.2667\n",
            "Epoch 92/100\n",
            "\u001b[1m21/21\u001b[0m \u001b[32m━━━━━━━━━━━━━━━━━━━━\u001b[0m\u001b[37m\u001b[0m \u001b[1m0s\u001b[0m 9ms/step - loss: 0.1189 - mae: 0.2664 - val_loss: 0.1135 - val_mae: 0.2635\n",
            "Epoch 93/100\n",
            "\u001b[1m21/21\u001b[0m \u001b[32m━━━━━━━━━━━━━━━━━━━━\u001b[0m\u001b[37m\u001b[0m \u001b[1m0s\u001b[0m 8ms/step - loss: 0.1130 - mae: 0.2711 - val_loss: 0.1184 - val_mae: 0.2651\n",
            "Epoch 94/100\n",
            "\u001b[1m21/21\u001b[0m \u001b[32m━━━━━━━━━━━━━━━━━━━━\u001b[0m\u001b[37m\u001b[0m \u001b[1m0s\u001b[0m 8ms/step - loss: 0.1058 - mae: 0.2540 - val_loss: 0.2359 - val_mae: 0.4037\n",
            "Epoch 95/100\n",
            "\u001b[1m21/21\u001b[0m \u001b[32m━━━━━━━━━━━━━━━━━━━━\u001b[0m\u001b[37m\u001b[0m \u001b[1m0s\u001b[0m 8ms/step - loss: 0.1538 - mae: 0.3033 - val_loss: 0.1141 - val_mae: 0.2644\n",
            "Epoch 96/100\n",
            "\u001b[1m21/21\u001b[0m \u001b[32m━━━━━━━━━━━━━━━━━━━━\u001b[0m\u001b[37m\u001b[0m \u001b[1m0s\u001b[0m 9ms/step - loss: 0.0991 - mae: 0.2494 - val_loss: 0.1136 - val_mae: 0.2644\n",
            "Epoch 97/100\n",
            "\u001b[1m21/21\u001b[0m \u001b[32m━━━━━━━━━━━━━━━━━━━━\u001b[0m\u001b[37m\u001b[0m \u001b[1m0s\u001b[0m 10ms/step - loss: 0.1487 - mae: 0.3066 - val_loss: 0.1340 - val_mae: 0.2889\n",
            "Epoch 98/100\n",
            "\u001b[1m21/21\u001b[0m \u001b[32m━━━━━━━━━━━━━━━━━━━━\u001b[0m\u001b[37m\u001b[0m \u001b[1m0s\u001b[0m 7ms/step - loss: 0.1273 - mae: 0.2850 - val_loss: 0.1450 - val_mae: 0.2979\n",
            "Epoch 99/100\n",
            "\u001b[1m21/21\u001b[0m \u001b[32m━━━━━━━━━━━━━━━━━━━━\u001b[0m\u001b[37m\u001b[0m \u001b[1m0s\u001b[0m 6ms/step - loss: 0.1188 - mae: 0.2779 - val_loss: 0.5651 - val_mae: 0.6849\n",
            "Epoch 100/100\n",
            "\u001b[1m21/21\u001b[0m \u001b[32m━━━━━━━━━━━━━━━━━━━━\u001b[0m\u001b[37m\u001b[0m \u001b[1m0s\u001b[0m 5ms/step - loss: 0.2391 - mae: 0.3966 - val_loss: 0.1194 - val_mae: 0.2663\n"
          ]
        }
      ],
      "source": [
        "# Train the TensorFlow/Keras model\n",
        "history_tf = model_tf.fit(X_train, y_train, epochs=100, batch_size=32, validation_split=0.2)\n"
      ]
    },
    {
      "cell_type": "markdown",
      "metadata": {
        "id": "KLaAUjfpfACo"
      },
      "source": [
        "### **3.5 Evaluasi Model**"
      ]
    },
    {
      "cell_type": "code",
      "execution_count": 21,
      "metadata": {
        "colab": {
          "base_uri": "https://localhost:8080/"
        },
        "id": "2S0ZkkPFcbEX",
        "outputId": "ece08b10-ea1d-47b1-995c-c027dfd4b5e8"
      },
      "outputs": [
        {
          "name": "stdout",
          "output_type": "stream",
          "text": [
            "\u001b[1m7/7\u001b[0m \u001b[32m━━━━━━━━━━━━━━━━━━━━\u001b[0m\u001b[37m\u001b[0m \u001b[1m0s\u001b[0m 9ms/step \n",
            "TensorFlow= Evaluation Results:\n",
            "MSE: 0.07636338716134088\n",
            "RMSE: 0.2763392609842852\n",
            "R-squared: 0.6373528392001566\n"
          ]
        }
      ],
      "source": [
        "# Make predictions on the test set\n",
        "y_pred_tf = model_tf.predict(X_test)\n",
        "\n",
        "# Evaluate the TensorFlow\n",
        "evaluation_results_tf = evaluate_model(y_test, y_pred_tf)\n",
        "\n",
        "# Print the evaluation metrics\n",
        "print(\"TensorFlow= Evaluation Results:\")\n",
        "for metric, value in evaluation_results_tf.items():\n",
        "    print(f\"{metric}: {value}\")\n"
      ]
    },
    {
      "cell_type": "markdown",
      "metadata": {
        "id": "wE0hpkCmfP_A"
      },
      "source": [
        "### **3.6 Visualisasi Prediksi Model**"
      ]
    },
    {
      "cell_type": "code",
      "execution_count": 22,
      "metadata": {
        "colab": {
          "base_uri": "https://localhost:8080/",
          "height": 1000
        },
        "id": "9qaHIt9mU6-8",
        "outputId": "81eab843-c37e-42ea-baf7-ee8690d07bfc"
      },
      "outputs": [
        {
          "data": {
            "image/png": "[encoded data removed]",
            "text/plain": [
              "<Figure size 800x600 with 1 Axes>"
            ]
          },
          "metadata": {},
          "output_type": "display_data"
        },
        {
          "data": {
            "image/png": "[encoded data removed]",
            "text/plain": [
              "<Figure size 1000x500 with 1 Axes>"
            ]
          },
          "metadata": {},
          "output_type": "display_data"
        }
      ],
      "source": [
        "# Visualize the predictions\n",
        "plot_predictions(y_test, y_pred_tf, \"TensorFlow\")\n",
        "\n",
        "# Visualize the training history\n",
        "plot_training_history(pd.DataFrame(history_tf.history), \"TensorFlow\")\n",
        "\n",
        "# Save the TensorFlow model\n",
        "model_tf.save('tensorflow_model.keras')"
      ]
    },
    {
      "cell_type": "markdown",
      "metadata": {
        "id": "7EysdQLOk_fv"
      },
      "source": [
        "# 📊 Analisis Matematis Model Regresi Dataset Infrared 🔍\n",
        "\n",
        "Pemodelan regresi menggunakan dataset infrared melibatkan beberapa persamaan matematis yang fundamental dalam pengembangan sistem prediktif. Berikut diuraikan konsep-konsep matematis yang melandasi implementasi model tersebut:\n",
        "\n",
        "## 📏 Metrik Evaluasi Model\n",
        "\n",
        "### 🎯 MSE (Mean Squared Error)\n",
        "MSE merupakan metrik evaluasi yang mengukur rata-rata kuadrat selisih antara nilai prediksi dan nilai aktual:\n",
        "\n",
        "$$\\text{MSE} = \\frac{1}{n} \\sum_{i=1}^{n} (y_{\\text{true},i} - y_{\\text{pred},i})^2$$\n",
        "\n",
        "Dimana:\n",
        "- $n$ adalah jumlah sampel data\n",
        "- $y_{\\text{true},i}$ adalah nilai sebenarnya untuk sampel ke-$i$\n",
        "- $y_{\\text{pred},i}$ adalah nilai prediksi untuk sampel ke-$i$\n",
        "\n",
        "### 📉 RMSE (Root Mean Squared Error)\n",
        "RMSE merupakan akar kuadrat dari MSE, memberikan interpretasi error dalam dimensi yang sama dengan variabel target:\n",
        "\n",
        "$$\\text{RMSE} = \\sqrt{\\text{MSE}} = \\sqrt{\\frac{1}{n} \\sum_{i=1}^{n} (y_{\\text{true},i} - y_{\\text{pred},i})^2}$$\n",
        "\n",
        "### 📈 R-squared (R²)\n",
        "R² mengukur proporsi variasi dalam variabel dependen yang dapat dijelaskan oleh model:\n",
        "\n",
        "$$R^2 = 1 - \\frac{\\sum_{i=1}^{n} (y_{\\text{true},i} - y_{\\text{pred},i})^2}{\\sum_{i=1}^{n} (y_{\\text{true},i} - \\bar{y}_{\\text{true}})^2}$$\n",
        "\n",
        "## 🧠 Arsitektur Jaringan Neural\n",
        "\n",
        "Kedua implementasi model (PyTorch dan TensorFlow) menerapkan arsitektur neural network dengan struktur sebagai berikut:\n",
        "\n",
        "### 🔄 Pemrosesan Forward\n",
        "$$h = \\text{ReLU}(W_1 \\cdot x + b_1)$$\n",
        "$$\\hat{y} = W_2 \\cdot h + b_2$$\n",
        "\n",
        "Komponen-komponen utama:\n",
        "- 📥 $x$ : vektor input dengan dimensi `input_size`\n",
        "- 🧮 $W_1$ dan $b_1$ : parameter layer pertama\n",
        "- 💡 $h$ : output hidden layer dengan dimensi `hidden_size`\n",
        "- 🧮 $W_2$ dan $b_2$ : parameter layer output\n",
        "- 📤 $\\hat{y}$ : prediksi model\n",
        "\n",
        "### 🔋 Fungsi Aktivasi ReLU\n",
        "ReLU (Rectified Linear Unit) merupakan fungsi aktivasi non-linear yang didefinisikan sebagai:\n",
        "\n",
        "$$\\text{ReLU}(z) = \\max(0, z)$$\n",
        "\n",
        "Fungsi ini berperan penting dalam memampukan model mempelajari pola non-linear dalam data.\n",
        "\n",
        "## ⚙️ Algoritma Optimisasi Adam\n",
        "\n",
        "Kedua implementasi menggunakan algoritma Adam yang mengintegrasikan kelebihan dari dua algoritma optimisasi:\n",
        "- 🔄 AdaGrad (kemampuan adaptasi dengan gradien jarang)\n",
        "- 🔄 RMSProp (kemampuan adaptasi dengan perubahan fungsi objektif bermagnitudo tinggi)\n",
        "\n",
        "Persamaan pembaruan parameter Adam:\n",
        "\n",
        "$$m_t = \\beta_1 \\cdot m_{t-1} + (1 - \\beta_1) \\cdot g_t$$\n",
        "$$v_t = \\beta_2 \\cdot v_{t-1} + (1 - \\beta_2) \\cdot g_t^2$$\n",
        "$$\\hat{m}_t = \\frac{m_t}{1 - \\beta_1^t}$$\n",
        "$$\\hat{v}_t = \\frac{v_t}{1 - \\beta_2^t}$$\n",
        "$$\\theta_t = \\theta_{t-1} - \\frac{\\eta}{\\sqrt{\\hat{v}_t} + \\epsilon} \\cdot \\hat{m}_t$$\n",
        "\n",
        "## 📉 Fungsi Loss MSE\n",
        "\n",
        "Model mengimplementasikan MSE sebagai fungsi loss dengan persamaan:\n",
        "\n",
        "$$\\mathcal{L}(\\theta) = \\frac{1}{n} \\sum_{i=1}^{n} (y_{\\text{true},i} - f_\\theta(x_i))^2$$\n",
        "\n",
        "Dimana:\n",
        "- 🧮 $\\theta$ : parameter model\n",
        "- 🔄 $f_\\theta(x_i)$ : output model untuk input $x_i$\n",
        "- 📊 $n$ : jumlah sampel data\n",
        "\n",
        "Pemahaman mendalam terhadap persamaan-persamaan matematis ini memberikan fondasi teoretis yang kokoh dalam pengembangan dan evaluasi model pembelajaran mesin untuk dataset inframerah. 🔬🧪"
      ]
    }
  ],
  "metadata": {
    "colab": {
      "authorship_tag": "ABX9TyMJkEcraV+G6i7msu3jCbxj",
      "include_colab_link": true,
      "provenance": []
    },
    "kernelspec": {
      "display_name": ".venv",
      "language": "python",
      "name": "python3"
    },
    "language_info": {
      "codemirror_mode": {
        "name": "ipython",
        "version": 3
      },
      "file_extension": ".py",
      "mimetype": "text/x-python",
      "name": "python",
      "nbconvert_exporter": "python",
      "pygments_lexer": "ipython3",
      "version": "3.12.10"
    }
  },
  "nbformat": 4,
  "nbformat_minor": 0
}
